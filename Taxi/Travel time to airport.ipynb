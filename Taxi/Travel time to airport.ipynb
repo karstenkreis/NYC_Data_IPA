{
 "cells": [
  {
   "cell_type": "markdown",
   "metadata": {},
   "source": [
    "Import what we need"
   ]
  },
  {
   "cell_type": "code",
   "execution_count": 1,
   "metadata": {
    "collapsed": true
   },
   "outputs": [],
   "source": [
    "import pandas as pd\n",
    "import numpy as np\n",
    "import matplotlib.pyplot as plt\n",
    "import matplotlib\n",
    "import seaborn as sns\n",
    "import scipy\n",
    "import glob\n",
    "import datetime\n",
    "%matplotlib inline"
   ]
  },
  {
   "cell_type": "markdown",
   "metadata": {},
   "source": [
    "Define some useful functions"
   ]
  },
  {
   "cell_type": "code",
   "execution_count": 2,
   "metadata": {
    "collapsed": true
   },
   "outputs": [],
   "source": [
    "# useful func\n",
    "def zscore(x):\n",
    "    return (x - (x.astype(float)).mean())/(x.astype(float)).std()\n",
    "\n",
    "# in order to calculate distance between points using coordinates\n",
    "from math import radians, cos, sin, asin, sqrt\n",
    "\n",
    "def haversine(coords1, lon2, lat2):\n",
    "    \"\"\"\n",
    "    Calculate the great circle distance between two points \n",
    "    on the earth (specified in decimal degrees)\n",
    "    \"\"\"\n",
    "    \n",
    "    lon1, lat1 = coords1\n",
    "#     lon2, lat2 = coords2\n",
    "    # convert decimal degrees to radians \n",
    "    lon1, lat1, lon2, lat2 = map(radians, [lon1, lat1, lon2, lat2])\n",
    "\n",
    "    # haversine formula \n",
    "    dlon = lon2 - lon1 \n",
    "    dlat = lat2 - lat1 \n",
    "    a = sin(dlat/2)**2 + cos(lat1) * cos(lat2) * sin(dlon/2)**2\n",
    "    c = 2 * asin(sqrt(a)) \n",
    "    r = 6371 # Radius of earth 6371 for kilometers. 3956 for miles\n",
    "    return c * r\n",
    "\n",
    "# define function to calculate distance from JFK\n",
    "def distFromJFK(coords):\n",
    "    \"\"\"\n",
    "    Calculate the great circle distance between two points \n",
    "    on the earth (specified in decimal degrees)\n",
    "    \"\"\"\n",
    "    # JFK coordinates\n",
    "    latJFK = 40.6397\n",
    "    lonJFK = -73.7789\n",
    "    \n",
    "#     return np.sqrt((lonJFK - coords[0])**2 + (latJFK - coords[1])**2)\n",
    "    return haversine((lonJFK, latJFK), coords[0], coords[1])"
   ]
  },
  {
   "cell_type": "markdown",
   "metadata": {},
   "source": [
    "Load the data from pickels"
   ]
  },
  {
   "cell_type": "code",
   "execution_count": 3,
   "metadata": {
    "collapsed": true
   },
   "outputs": [],
   "source": [
    "fList = glob.glob('/Users/eladg/Documents/Git/NYC_Data_IPA/Taxi/allTaxiData*.pkl')\n",
    "fListDist = glob.glob('/Users/eladg/Documents/Git/NYC_Data_IPA/Taxi/dJFK*.pkl')\n",
    "dfList = []\n",
    "distList = []\n",
    "testList = ['trip_time_in_secs', 'trip_distance', 'dropoff_latitude', 'dropoff_longitude'] # list of columns to test\n",
    "for idx,file in enumerate(fList):\n",
    "    currDF = pd.read_pickle(file)\n",
    "    currDist = pd.read_pickle(fListDist[idx])\n",
    "#     currDist = currDF[['dropoff_longitude', 'dropoff_latitude']].apply(distFromJFK,axis=1)\n",
    "    \n",
    "    # clean the data during the loading procedure to keep memory cost low\n",
    "    goodEntries = (currDF[testList] != 0).all(axis=1) &\\\n",
    "    (currDF[testList] < np.inf).all(axis=1)\n",
    "    currDF = currDF[goodEntries]\n",
    "    currDist = currDist[goodEntries]\n",
    "    goodEntries2 = (currDF[testList].apply(zscore) < 10).all(axis=1)\n",
    "    currDF = currDF[goodEntries2]\n",
    "    currDist = currDist[goodEntries2]\n",
    "    dfList.append(currDF)\n",
    "    distList.append(currDist)\n",
    "#     if idx>0:\n",
    "#         break\n",
    "    \n",
    "df = pd.concat(dfList)\n",
    "dJFK = pd.concat(distList)"
   ]
  },
  {
   "cell_type": "markdown",
   "metadata": {},
   "source": [
    "Histogram the distance of dropoffs from JFK (only look at dropoffs close to JFK)"
   ]
  },
  {
   "cell_type": "code",
   "execution_count": 4,
   "metadata": {
    "collapsed": false
   },
   "outputs": [
    {
     "data": {
      "text/plain": [
       "<matplotlib.axes._subplots.AxesSubplot at 0x10ad60dd8>"
      ]
     },
     "execution_count": 4,
     "metadata": {},
     "output_type": "execute_result"
    },
    {
     "data": {
      "image/png": "[encoded data removed]",
      "text/plain": [
       "<matplotlib.figure.Figure at 0x10ad608d0>"
      ]
     },
     "metadata": {},
     "output_type": "display_data"
    }
   ],
   "source": [
    "dJFK[dJFK<5].hist(bins=100)"
   ]
  },
  {
   "cell_type": "markdown",
   "metadata": {},
   "source": [
    "Define trips to JFK as trips ending less than 2 miles from the JFK coordinate"
   ]
  },
  {
   "cell_type": "code",
   "execution_count": 5,
   "metadata": {
    "collapsed": false
   },
   "outputs": [],
   "source": [
    "tripsToAirport = dJFK < 2\n",
    "dfAirport = df[tripsToAirport]"
   ]
  },
  {
   "cell_type": "markdown",
   "metadata": {},
   "source": [
    "Calculate dropoff time from pickup time and trip duration"
   ]
  },
  {
   "cell_type": "code",
   "execution_count": 11,
   "metadata": {
    "collapsed": false
   },
   "outputs": [],
   "source": [
    "dateDur = dfAirport[['pickup_date', 'trip_time_in_secs']]\n",
    "dropoffTime = dateDur.apply(lambda x: np.floor((x['pickup_date'] +\n",
    "                                                  datetime.timedelta(0,x['trip_time_in_secs'])).hour % 24), axis=1)"
   ]
  },
  {
   "cell_type": "markdown",
   "metadata": {},
   "source": [
    "## Pick day hour and location for travel to airport"
   ]
  },
  {
   "cell_type": "code",
   "execution_count": 8,
   "metadata": {
    "collapsed": false
   },
   "outputs": [],
   "source": [
    "day = np.arange(0,5)\n",
    "hour = 19\n",
    "location = (-74,40.74)\n",
    "distFromLoc = dfAirport[['pickup_longitude', 'pickup_latitude']].apply(haversine, args=location, axis=1)\n",
    "tripTimes = dfAirport['trip_time_in_secs'][(dfAirport['pickup_day_of_week'].isin(day)) &\\\n",
    "                                           (dropoffTime == hour) &\\\n",
    "                                          (distFromLoc < 0.3)]"
   ]
  },
  {
   "cell_type": "markdown",
   "metadata": {},
   "source": [
    "Try to present travel time distribution as violin plot"
   ]
  },
  {
   "cell_type": "code",
   "execution_count": 9,
   "metadata": {
    "collapsed": false
   },
   "outputs": [
    {
     "data": {
      "text/plain": [
       "<matplotlib.text.Text at 0x106b7d8d0>"
      ]
     },
     "execution_count": 9,
     "metadata": {},
     "output_type": "execute_result"
    },
    {
     "data": {
      "image/png": "[encoded data removed]",
      "text/plain": [
       "<matplotlib.figure.Figure at 0x106c9b908>"
      ]
     },
     "metadata": {},
     "output_type": "display_data"
    }
   ],
   "source": [
    "sns.violinplot(tripTimes/60)\n",
    "plt.xlabel('Drive time (min.)')"
   ]
  },
  {
   "cell_type": "markdown",
   "metadata": {},
   "source": [
    "Or box plot"
   ]
  },
  {
   "cell_type": "code",
   "execution_count": 10,
   "metadata": {
    "collapsed": false
   },
   "outputs": [
    {
     "data": {
      "text/plain": [
       "<matplotlib.text.Text at 0x106dc3278>"
      ]
     },
     "execution_count": 10,
     "metadata": {},
     "output_type": "execute_result"
    },
    {
     "data": {
      "image/png": "[encoded data removed]",
      "text/plain": [
       "<matplotlib.figure.Figure at 0x10e955048>"
      ]
     },
     "metadata": {},
     "output_type": "display_data"
    }
   ],
   "source": [
    "sns.boxplot(tripTimes/60)\n",
    "plt.xlabel('Drive time (min.)')"
   ]
  }
 ],
 "metadata": {
  "kernelspec": {
   "display_name": "Python 3",
   "language": "python",
   "name": "python3"
  },
  "language_info": {
   "codemirror_mode": {
    "name": "ipython",
    "version": 3
   },
   "file_extension": ".py",
   "mimetype": "text/x-python",
   "name": "python",
   "nbconvert_exporter": "python",
   "pygments_lexer": "ipython3",
   "version": "3.4.3"
  }
 },
 "nbformat": 4,
 "nbformat_minor": 0
}
