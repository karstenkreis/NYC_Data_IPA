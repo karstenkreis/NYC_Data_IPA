{
 "cells": [
  {
   "cell_type": "code",
   "execution_count": 1,
   "metadata": {
    "collapsed": false
   },
   "outputs": [],
   "source": [
    "import pandas as pd\n",
    "import numpy as np\n",
    "import matplotlib.pyplot as plt\n",
    "import matplotlib\n",
    "import datetime\n",
    "import folium\n",
    "import glob \n",
    "\n",
    "%matplotlib inline"
   ]
  },
  {
   "cell_type": "code",
   "execution_count": 2,
   "metadata": {
    "collapsed": false
   },
   "outputs": [],
   "source": [
    "def zscore(x):\n",
    "    return (x - (x.astype(float)).mean())/(x.astype(float)).std() # I convert to float 64 to avoid overflow\n",
    "\n",
    "fList = glob.glob('./allTaxiData*.pkl')\n",
    "dfList = []\n",
    "for file in fList[:1]:\n",
    "    currDF = pd.read_pickle(file)\n",
    "    # clean the data during the loading procedure to keep memory cost low\n",
    "    goodEntries = (currDF['trip_time_in_secs'] > 0) & (currDF['trip_time_in_secs'] < np.inf) &\\\n",
    "    (currDF['trip_distance'] > 0) & (currDF['trip_distance'] < np.inf)\n",
    "    currDF = currDF[goodEntries]\n",
    "    goodEntries2 = (currDF[['trip_time_in_secs', 'trip_distance']].apply(zscore) < 10).all(axis=1)\n",
    "    currDF = currDF[goodEntries2]\n",
    "    dfList.append(currDF)\n",
    "    \n",
    "df = pd.concat(dfList)"
   ]
  },
  {
   "cell_type": "code",
   "execution_count": 3,
   "metadata": {
    "collapsed": false
   },
   "outputs": [],
   "source": [
    "mbox = folium.Map(location=[40.74, -73.99], tiles='Stamen WaterColor',\n",
    "                    zoom_start=11)\n",
    "locations = df[['pickup_latitude','pickup_longitude']].values.tolist()\n",
    "for pickupLoc in locations[:1000]:\n",
    "    mbox.circle_marker(location=[pickupLoc[0],pickupLoc[1]], radius=50, \n",
    "                       fill_color='#800000', line_color='#800000')                          \n",
    "    \n",
    "mbox.create_map(path='test_folium_map.html')\n",
    "del mbox"
   ]
  },
  {
   "cell_type": "code",
   "execution_count": 29,
   "metadata": {
    "collapsed": false
   },
   "outputs": [],
   "source": [
    "stamen = folium.Map(location=[45.5236, -122.6750], tiles='MapQuest Open',\n",
    "                    zoom_start=13)\n",
    "stamen.create_map(path='stamen_toner.html')"
   ]
  }
 ],
 "metadata": {
  "kernelspec": {
   "display_name": "Python 3",
   "language": "python",
   "name": "python3"
  },
  "language_info": {
   "codemirror_mode": {
    "name": "ipython",
    "version": 3
   },
   "file_extension": ".py",
   "mimetype": "text/x-python",
   "name": "python",
   "nbconvert_exporter": "python",
   "pygments_lexer": "ipython3",
   "version": "3.4.3"
  }
 },
 "nbformat": 4,
 "nbformat_minor": 0
}
