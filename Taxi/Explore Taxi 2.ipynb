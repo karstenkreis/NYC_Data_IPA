{
 "cells": [
  {
   "cell_type": "code",
   "execution_count": 2,
   "metadata": {
    "collapsed": false
   },
   "outputs": [],
   "source": [
    "import pandas as pd\n",
    "import numpy as np\n",
    "import matplotlib.pyplot as plt\n",
    "import matplotlib\n",
    "import datetime\n",
    "\n",
    "%matplotlib inline\n",
    "\n",
    "df = pd.read_csv('/Users/eladg/Documents/Git/NYC_Data_IPA/Taxi/allTaxiData.csv',\n",
    "                dtype = {'pickup_day_of_year': np.uint16,\n",
    "                         'pickup_day_of_Month': np.uint8, 'pickup_day_of_week': np.uint8,\n",
    "                         'pickup_month': np.uint8, 'pickup_hour': np.uint8, 'passenger_count': np.uint8,\n",
    "                        'trip_time_in_secs': np.uint16, 'trip_distance': np.float16, 'pickup_longitude': np.float,\n",
    "                        'pickup_latitude': np.float, 'dropoff_longitude': np.float, 'dropoff_latitude': np.float},\n",
    "                parse_dates = [0])"
   ]
  },
  {
   "cell_type": "code",
   "execution_count": 2,
   "metadata": {
    "collapsed": false
   },
   "outputs": [
    {
     "data": {
      "text/html": [
       "<div style=\"max-height:1000px;max-width:1500px;overflow:auto;\">\n",
       "<table border=\"1\" class=\"dataframe\">\n",
       "  <thead>\n",
       "    <tr style=\"text-align: right;\">\n",
       "      <th></th>\n",
       "      <th>pickup_date</th>\n",
       "      <th>pickup_day_of_year</th>\n",
       "      <th>pickup_day_of_Month</th>\n",
       "      <th>pickup_day_of_week</th>\n",
       "      <th>pickup_month</th>\n",
       "      <th>pickup_hour</th>\n",
       "      <th>passenger_count</th>\n",
       "      <th>trip_time_in_secs</th>\n",
       "      <th>trip_distance</th>\n",
       "      <th>pickup_longitude</th>\n",
       "      <th>pickup_latitude</th>\n",
       "      <th>dropoff_longitude</th>\n",
       "      <th>dropoff_latitude</th>\n",
       "    </tr>\n",
       "  </thead>\n",
       "  <tbody>\n",
       "    <tr>\n",
       "      <th>0</th>\n",
       "      <td> 2013-07-01 01:47:00</td>\n",
       "      <td> 182</td>\n",
       "      <td> 1</td>\n",
       "      <td> 0</td>\n",
       "      <td> 7</td>\n",
       "      <td> 1</td>\n",
       "      <td> 1</td>\n",
       "      <td> 300</td>\n",
       "      <td> 1.169922</td>\n",
       "      <td>-74.013229</td>\n",
       "      <td> 40.714718</td>\n",
       "      <td>-74.003494</td>\n",
       "      <td> 40.725285</td>\n",
       "    </tr>\n",
       "    <tr>\n",
       "      <th>1</th>\n",
       "      <td> 2013-07-01 01:39:00</td>\n",
       "      <td> 182</td>\n",
       "      <td> 1</td>\n",
       "      <td> 0</td>\n",
       "      <td> 7</td>\n",
       "      <td> 1</td>\n",
       "      <td> 1</td>\n",
       "      <td> 780</td>\n",
       "      <td> 4.171875</td>\n",
       "      <td>-73.980865</td>\n",
       "      <td> 40.763947</td>\n",
       "      <td>-73.933884</td>\n",
       "      <td> 40.767677</td>\n",
       "    </tr>\n",
       "    <tr>\n",
       "      <th>2</th>\n",
       "      <td> 2013-07-01 01:36:00</td>\n",
       "      <td> 182</td>\n",
       "      <td> 1</td>\n",
       "      <td> 0</td>\n",
       "      <td> 7</td>\n",
       "      <td> 1</td>\n",
       "      <td> 1</td>\n",
       "      <td> 840</td>\n",
       "      <td> 2.980469</td>\n",
       "      <td>-74.007568</td>\n",
       "      <td> 40.740898</td>\n",
       "      <td>-73.980118</td>\n",
       "      <td> 40.713985</td>\n",
       "    </tr>\n",
       "    <tr>\n",
       "      <th>3</th>\n",
       "      <td> 2013-07-01 01:53:00</td>\n",
       "      <td> 182</td>\n",
       "      <td> 1</td>\n",
       "      <td> 0</td>\n",
       "      <td> 7</td>\n",
       "      <td> 1</td>\n",
       "      <td> 1</td>\n",
       "      <td> 240</td>\n",
       "      <td> 0.750000</td>\n",
       "      <td>-73.985466</td>\n",
       "      <td> 40.718342</td>\n",
       "      <td>-73.982841</td>\n",
       "      <td> 40.727016</td>\n",
       "    </tr>\n",
       "    <tr>\n",
       "      <th>4</th>\n",
       "      <td> 2013-07-01 01:47:00</td>\n",
       "      <td> 182</td>\n",
       "      <td> 1</td>\n",
       "      <td> 0</td>\n",
       "      <td> 7</td>\n",
       "      <td> 1</td>\n",
       "      <td> 1</td>\n",
       "      <td> 720</td>\n",
       "      <td> 1.759766</td>\n",
       "      <td>-74.005630</td>\n",
       "      <td> 40.726448</td>\n",
       "      <td>-74.003906</td>\n",
       "      <td> 40.742031</td>\n",
       "    </tr>\n",
       "  </tbody>\n",
       "</table>\n",
       "</div>"
      ],
      "text/plain": [
       "           pickup_date  pickup_day_of_year  pickup_day_of_Month  \\\n",
       "0  2013-07-01 01:47:00                 182                    1   \n",
       "1  2013-07-01 01:39:00                 182                    1   \n",
       "2  2013-07-01 01:36:00                 182                    1   \n",
       "3  2013-07-01 01:53:00                 182                    1   \n",
       "4  2013-07-01 01:47:00                 182                    1   \n",
       "\n",
       "   pickup_day_of_week  pickup_month  pickup_hour  passenger_count  \\\n",
       "0                   0             7            1                1   \n",
       "1                   0             7            1                1   \n",
       "2                   0             7            1                1   \n",
       "3                   0             7            1                1   \n",
       "4                   0             7            1                1   \n",
       "\n",
       "   trip_time_in_secs  trip_distance  pickup_longitude  pickup_latitude  \\\n",
       "0                300       1.169922        -74.013229        40.714718   \n",
       "1                780       4.171875        -73.980865        40.763947   \n",
       "2                840       2.980469        -74.007568        40.740898   \n",
       "3                240       0.750000        -73.985466        40.718342   \n",
       "4                720       1.759766        -74.005630        40.726448   \n",
       "\n",
       "   dropoff_longitude  dropoff_latitude  \n",
       "0         -74.003494         40.725285  \n",
       "1         -73.933884         40.767677  \n",
       "2         -73.980118         40.713985  \n",
       "3         -73.982841         40.727016  \n",
       "4         -74.003906         40.742031  "
      ]
     },
     "execution_count": 2,
     "metadata": {},
     "output_type": "execute_result"
    }
   ],
   "source": [
    "df.head()"
   ]
  },
  {
   "cell_type": "code",
   "execution_count": 4,
   "metadata": {
    "collapsed": false
   },
   "outputs": [
    {
     "data": {
      "text/plain": [
       "23"
      ]
     },
     "execution_count": 4,
     "metadata": {},
     "output_type": "execute_result"
    }
   ],
   "source": [
    "df['pickup_date'].apply(lambda x: x.hour).max()"
   ]
  },
  {
   "cell_type": "code",
   "execution_count": 3,
   "metadata": {
    "collapsed": false
   },
   "outputs": [
    {
     "data": {
      "text/plain": [
       "pandas.tslib.Timestamp"
      ]
     },
     "execution_count": 3,
     "metadata": {},
     "output_type": "execute_result"
    }
   ],
   "source": [
    "type(df['pickup_date'][0])"
   ]
  }
 ],
 "metadata": {
  "kernelspec": {
   "display_name": "Python 3",
   "language": "python",
   "name": "python3"
  },
  "language_info": {
   "codemirror_mode": {
    "name": "ipython",
    "version": 3
   },
   "file_extension": ".py",
   "mimetype": "text/x-python",
   "name": "python",
   "nbconvert_exporter": "python",
   "pygments_lexer": "ipython3",
   "version": "3.4.3"
  }
 },
 "nbformat": 4,
 "nbformat_minor": 0
}
