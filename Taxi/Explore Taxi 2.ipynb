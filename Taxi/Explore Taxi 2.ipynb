{
 "cells": [
  {
   "cell_type": "code",
   "execution_count": 6,
   "metadata": {
    "collapsed": false
   },
   "outputs": [
    {
     "ename": "ValueError",
     "evalue": "could not convert string to float: 'pickup_day_of_year'",
     "output_type": "error",
     "traceback": [
      "\u001b[0;31m---------------------------------------------------------------------------\u001b[0m",
      "\u001b[0;31mTypeError\u001b[0m                                 Traceback (most recent call last)",
      "\u001b[0;32mpandas/parser.pyx\u001b[0m in \u001b[0;36mpandas.parser.TextReader._convert_tokens (pandas/parser.c:10825)\u001b[0;34m()\u001b[0m\n",
      "\u001b[0;31mTypeError\u001b[0m: Cannot cast array from dtype('O') to dtype('float64') according to the rule 'safe'",
      "\nDuring handling of the above exception, another exception occurred:\n",
      "\u001b[0;31mValueError\u001b[0m                                Traceback (most recent call last)",
      "\u001b[0;32m<ipython-input-6-e25515ba4aa1>\u001b[0m in \u001b[0;36m<module>\u001b[0;34m()\u001b[0m\n\u001b[1;32m     13\u001b[0m                         \u001b[0;34m'trip_time_in_secs'\u001b[0m\u001b[0;34m:\u001b[0m \u001b[0mnp\u001b[0m\u001b[0;34m.\u001b[0m\u001b[0muint16\u001b[0m\u001b[0;34m,\u001b[0m \u001b[0;34m'trip_distance'\u001b[0m\u001b[0;34m:\u001b[0m \u001b[0mnp\u001b[0m\u001b[0;34m.\u001b[0m\u001b[0mfloat16\u001b[0m\u001b[0;34m,\u001b[0m \u001b[0;34m'pickup_longitude'\u001b[0m\u001b[0;34m:\u001b[0m \u001b[0mnp\u001b[0m\u001b[0;34m.\u001b[0m\u001b[0mfloat\u001b[0m\u001b[0;34m,\u001b[0m\u001b[0;34m\u001b[0m\u001b[0m\n\u001b[1;32m     14\u001b[0m                         'pickup_latitude': np.float, 'dropoff_longitude': np.float, 'dropoff_latitude': np.float},\n\u001b[0;32m---> 15\u001b[0;31m                 parse_dates = [0])\n\u001b[0m",
      "\u001b[0;32m/Users/eladg/anaconda/lib/python3.4/site-packages/pandas/io/parsers.py\u001b[0m in \u001b[0;36mparser_f\u001b[0;34m(filepath_or_buffer, sep, dialect, compression, doublequote, escapechar, quotechar, quoting, skipinitialspace, lineterminator, header, index_col, names, prefix, skiprows, skipfooter, skip_footer, na_values, na_fvalues, true_values, false_values, delimiter, converters, dtype, usecols, engine, delim_whitespace, as_recarray, na_filter, compact_ints, use_unsigned, low_memory, buffer_lines, warn_bad_lines, error_bad_lines, keep_default_na, thousands, comment, decimal, parse_dates, keep_date_col, dayfirst, date_parser, memory_map, float_precision, nrows, iterator, chunksize, verbose, encoding, squeeze, mangle_dupe_cols, tupleize_cols, infer_datetime_format, skip_blank_lines)\u001b[0m\n\u001b[1;32m    463\u001b[0m                     skip_blank_lines=skip_blank_lines)\n\u001b[1;32m    464\u001b[0m \u001b[0;34m\u001b[0m\u001b[0m\n\u001b[0;32m--> 465\u001b[0;31m         \u001b[0;32mreturn\u001b[0m \u001b[0m_read\u001b[0m\u001b[0;34m(\u001b[0m\u001b[0mfilepath_or_buffer\u001b[0m\u001b[0;34m,\u001b[0m \u001b[0mkwds\u001b[0m\u001b[0;34m)\u001b[0m\u001b[0;34m\u001b[0m\u001b[0m\n\u001b[0m\u001b[1;32m    466\u001b[0m \u001b[0;34m\u001b[0m\u001b[0m\n\u001b[1;32m    467\u001b[0m     \u001b[0mparser_f\u001b[0m\u001b[0;34m.\u001b[0m\u001b[0m__name__\u001b[0m \u001b[0;34m=\u001b[0m \u001b[0mname\u001b[0m\u001b[0;34m\u001b[0m\u001b[0m\n",
      "\u001b[0;32m/Users/eladg/anaconda/lib/python3.4/site-packages/pandas/io/parsers.py\u001b[0m in \u001b[0;36m_read\u001b[0;34m(filepath_or_buffer, kwds)\u001b[0m\n\u001b[1;32m    249\u001b[0m         \u001b[0;32mreturn\u001b[0m \u001b[0mparser\u001b[0m\u001b[0;34m\u001b[0m\u001b[0m\n\u001b[1;32m    250\u001b[0m \u001b[0;34m\u001b[0m\u001b[0m\n\u001b[0;32m--> 251\u001b[0;31m     \u001b[0;32mreturn\u001b[0m \u001b[0mparser\u001b[0m\u001b[0;34m.\u001b[0m\u001b[0mread\u001b[0m\u001b[0;34m(\u001b[0m\u001b[0;34m)\u001b[0m\u001b[0;34m\u001b[0m\u001b[0m\n\u001b[0m\u001b[1;32m    252\u001b[0m \u001b[0;34m\u001b[0m\u001b[0m\n\u001b[1;32m    253\u001b[0m _parser_defaults = {\n",
      "\u001b[0;32m/Users/eladg/anaconda/lib/python3.4/site-packages/pandas/io/parsers.py\u001b[0m in \u001b[0;36mread\u001b[0;34m(self, nrows)\u001b[0m\n\u001b[1;32m    708\u001b[0m                 \u001b[0;32mraise\u001b[0m \u001b[0mValueError\u001b[0m\u001b[0;34m(\u001b[0m\u001b[0;34m'skip_footer not supported for iteration'\u001b[0m\u001b[0;34m)\u001b[0m\u001b[0;34m\u001b[0m\u001b[0m\n\u001b[1;32m    709\u001b[0m \u001b[0;34m\u001b[0m\u001b[0m\n\u001b[0;32m--> 710\u001b[0;31m         \u001b[0mret\u001b[0m \u001b[0;34m=\u001b[0m \u001b[0mself\u001b[0m\u001b[0;34m.\u001b[0m\u001b[0m_engine\u001b[0m\u001b[0;34m.\u001b[0m\u001b[0mread\u001b[0m\u001b[0;34m(\u001b[0m\u001b[0mnrows\u001b[0m\u001b[0;34m)\u001b[0m\u001b[0;34m\u001b[0m\u001b[0m\n\u001b[0m\u001b[1;32m    711\u001b[0m \u001b[0;34m\u001b[0m\u001b[0m\n\u001b[1;32m    712\u001b[0m         \u001b[0;32mif\u001b[0m \u001b[0mself\u001b[0m\u001b[0;34m.\u001b[0m\u001b[0moptions\u001b[0m\u001b[0;34m.\u001b[0m\u001b[0mget\u001b[0m\u001b[0;34m(\u001b[0m\u001b[0;34m'as_recarray'\u001b[0m\u001b[0;34m)\u001b[0m\u001b[0;34m:\u001b[0m\u001b[0;34m\u001b[0m\u001b[0m\n",
      "\u001b[0;32m/Users/eladg/anaconda/lib/python3.4/site-packages/pandas/io/parsers.py\u001b[0m in \u001b[0;36mread\u001b[0;34m(self, nrows)\u001b[0m\n\u001b[1;32m   1157\u001b[0m \u001b[0;34m\u001b[0m\u001b[0m\n\u001b[1;32m   1158\u001b[0m         \u001b[0;32mtry\u001b[0m\u001b[0;34m:\u001b[0m\u001b[0;34m\u001b[0m\u001b[0m\n\u001b[0;32m-> 1159\u001b[0;31m             \u001b[0mdata\u001b[0m \u001b[0;34m=\u001b[0m \u001b[0mself\u001b[0m\u001b[0;34m.\u001b[0m\u001b[0m_reader\u001b[0m\u001b[0;34m.\u001b[0m\u001b[0mread\u001b[0m\u001b[0;34m(\u001b[0m\u001b[0mnrows\u001b[0m\u001b[0;34m)\u001b[0m\u001b[0;34m\u001b[0m\u001b[0m\n\u001b[0m\u001b[1;32m   1160\u001b[0m         \u001b[0;32mexcept\u001b[0m \u001b[0mStopIteration\u001b[0m\u001b[0;34m:\u001b[0m\u001b[0;34m\u001b[0m\u001b[0m\n\u001b[1;32m   1161\u001b[0m             \u001b[0;32mif\u001b[0m \u001b[0mnrows\u001b[0m \u001b[0;32mis\u001b[0m \u001b[0;32mNone\u001b[0m\u001b[0;34m:\u001b[0m\u001b[0;34m\u001b[0m\u001b[0m\n",
      "\u001b[0;32mpandas/parser.pyx\u001b[0m in \u001b[0;36mpandas.parser.TextReader.read (pandas/parser.c:7403)\u001b[0;34m()\u001b[0m\n",
      "\u001b[0;32mpandas/parser.pyx\u001b[0m in \u001b[0;36mpandas.parser.TextReader._read_low_memory (pandas/parser.c:7643)\u001b[0;34m()\u001b[0m\n",
      "\u001b[0;32mpandas/parser.pyx\u001b[0m in \u001b[0;36mpandas.parser.TextReader._read_rows (pandas/parser.c:8476)\u001b[0;34m()\u001b[0m\n",
      "\u001b[0;32mpandas/parser.pyx\u001b[0m in \u001b[0;36mpandas.parser.TextReader._convert_column_data (pandas/parser.c:9787)\u001b[0;34m()\u001b[0m\n",
      "\u001b[0;32mpandas/parser.pyx\u001b[0m in \u001b[0;36mpandas.parser.TextReader._convert_tokens (pandas/parser.c:10892)\u001b[0;34m()\u001b[0m\n",
      "\u001b[0;31mValueError\u001b[0m: could not convert string to float: 'pickup_day_of_year'"
     ]
    }
   ],
   "source": [
    "import pandas as pd\n",
    "import numpy as np\n",
    "import matplotlib.pyplot as plt\n",
    "import matplotlib\n",
    "import datetime\n",
    "\n",
    "%matplotlib inline\n",
    "\n",
    "df = pd.read_csv('/Users/eladg/Documents/Git/NYC_Data_IPA/Taxi/allTaxiData.csv',\n",
    "                dtype = {'pickup_day_of_year': np.float,\n",
    "                         'pickup_day_of_Month': np.uint8, 'pickup_day_of_week': np.uint8,\n",
    "                         'pickup_month': np.uint8, 'pickup_hour': np.uint8, 'passenger_count': np.uint8,\n",
    "                        'trip_time_in_secs': np.uint16, 'trip_distance': np.float16, 'pickup_longitude': np.float,\n",
    "                        'pickup_latitude': np.float, 'dropoff_longitude': np.float, 'dropoff_latitude': np.float},\n",
    "                parse_dates = [0])"
   ]
  },
  {
   "cell_type": "code",
   "execution_count": 7,
   "metadata": {
    "collapsed": false
   },
   "outputs": [
    {
     "data": {
      "text/html": [
       "<div style=\"max-height:1000px;max-width:1500px;overflow:auto;\">\n",
       "<table border=\"1\" class=\"dataframe\">\n",
       "  <thead>\n",
       "    <tr style=\"text-align: right;\">\n",
       "      <th></th>\n",
       "      <th>pickup_date</th>\n",
       "      <th>pickup_day_of_year</th>\n",
       "      <th>pickup_day_of_Month</th>\n",
       "      <th>pickup_day_of_week</th>\n",
       "      <th>pickup_month</th>\n",
       "      <th>pickup_hour</th>\n",
       "      <th>passenger_count</th>\n",
       "      <th>trip_time_in_secs</th>\n",
       "      <th>trip_distance</th>\n",
       "      <th>pickup_longitude</th>\n",
       "      <th>pickup_latitude</th>\n",
       "      <th>dropoff_longitude</th>\n",
       "      <th>dropoff_latitude</th>\n",
       "    </tr>\n",
       "  </thead>\n",
       "  <tbody>\n",
       "    <tr>\n",
       "      <th>13823840</th>\n",
       "      <td> pickup_date</td>\n",
       "      <td> pickup_day_of_year</td>\n",
       "      <td> pickup_day_of_Month</td>\n",
       "      <td> pickup_day_of_week</td>\n",
       "      <td> pickup_month</td>\n",
       "      <td> pickup_hour</td>\n",
       "      <td> passenger_count</td>\n",
       "      <td> trip_time_in_secs</td>\n",
       "      <td> trip_distance</td>\n",
       "      <td> pickup_longitude</td>\n",
       "      <td> pickup_latitude</td>\n",
       "      <td> dropoff_longitude</td>\n",
       "      <td> dropoff_latitude</td>\n",
       "    </tr>\n",
       "    <tr>\n",
       "      <th>13823841</th>\n",
       "      <td> pickup_date</td>\n",
       "      <td> pickup_day_of_year</td>\n",
       "      <td> pickup_day_of_Month</td>\n",
       "      <td> pickup_day_of_week</td>\n",
       "      <td> pickup_month</td>\n",
       "      <td> pickup_hour</td>\n",
       "      <td> passenger_count</td>\n",
       "      <td> trip_time_in_secs</td>\n",
       "      <td> trip_distance</td>\n",
       "      <td> pickup_longitude</td>\n",
       "      <td> pickup_latitude</td>\n",
       "      <td> dropoff_longitude</td>\n",
       "      <td> dropoff_latitude</td>\n",
       "    </tr>\n",
       "    <tr>\n",
       "      <th>13823842</th>\n",
       "      <td> pickup_date</td>\n",
       "      <td> pickup_day_of_year</td>\n",
       "      <td> pickup_day_of_Month</td>\n",
       "      <td> pickup_day_of_week</td>\n",
       "      <td> pickup_month</td>\n",
       "      <td> pickup_hour</td>\n",
       "      <td> passenger_count</td>\n",
       "      <td> trip_time_in_secs</td>\n",
       "      <td> trip_distance</td>\n",
       "      <td> pickup_longitude</td>\n",
       "      <td> pickup_latitude</td>\n",
       "      <td> dropoff_longitude</td>\n",
       "      <td> dropoff_latitude</td>\n",
       "    </tr>\n",
       "    <tr>\n",
       "      <th>13823843</th>\n",
       "      <td> pickup_date</td>\n",
       "      <td> pickup_day_of_year</td>\n",
       "      <td> pickup_day_of_Month</td>\n",
       "      <td> pickup_day_of_week</td>\n",
       "      <td> pickup_month</td>\n",
       "      <td> pickup_hour</td>\n",
       "      <td> passenger_count</td>\n",
       "      <td> trip_time_in_secs</td>\n",
       "      <td> trip_distance</td>\n",
       "      <td> pickup_longitude</td>\n",
       "      <td> pickup_latitude</td>\n",
       "      <td> dropoff_longitude</td>\n",
       "      <td> dropoff_latitude</td>\n",
       "    </tr>\n",
       "    <tr>\n",
       "      <th>13823844</th>\n",
       "      <td> pickup_date</td>\n",
       "      <td> pickup_day_of_year</td>\n",
       "      <td> pickup_day_of_Month</td>\n",
       "      <td> pickup_day_of_week</td>\n",
       "      <td> pickup_month</td>\n",
       "      <td> pickup_hour</td>\n",
       "      <td> passenger_count</td>\n",
       "      <td> trip_time_in_secs</td>\n",
       "      <td> trip_distance</td>\n",
       "      <td> pickup_longitude</td>\n",
       "      <td> pickup_latitude</td>\n",
       "      <td> dropoff_longitude</td>\n",
       "      <td> dropoff_latitude</td>\n",
       "    </tr>\n",
       "  </tbody>\n",
       "</table>\n",
       "</div>"
      ],
      "text/plain": [
       "          pickup_date  pickup_day_of_year  pickup_day_of_Month  \\\n",
       "13823840  pickup_date  pickup_day_of_year  pickup_day_of_Month   \n",
       "13823841  pickup_date  pickup_day_of_year  pickup_day_of_Month   \n",
       "13823842  pickup_date  pickup_day_of_year  pickup_day_of_Month   \n",
       "13823843  pickup_date  pickup_day_of_year  pickup_day_of_Month   \n",
       "13823844  pickup_date  pickup_day_of_year  pickup_day_of_Month   \n",
       "\n",
       "          pickup_day_of_week  pickup_month  pickup_hour  passenger_count  \\\n",
       "13823840  pickup_day_of_week  pickup_month  pickup_hour  passenger_count   \n",
       "13823841  pickup_day_of_week  pickup_month  pickup_hour  passenger_count   \n",
       "13823842  pickup_day_of_week  pickup_month  pickup_hour  passenger_count   \n",
       "13823843  pickup_day_of_week  pickup_month  pickup_hour  passenger_count   \n",
       "13823844  pickup_day_of_week  pickup_month  pickup_hour  passenger_count   \n",
       "\n",
       "          trip_time_in_secs  trip_distance  pickup_longitude  pickup_latitude  \\\n",
       "13823840  trip_time_in_secs  trip_distance  pickup_longitude  pickup_latitude   \n",
       "13823841  trip_time_in_secs  trip_distance  pickup_longitude  pickup_latitude   \n",
       "13823842  trip_time_in_secs  trip_distance  pickup_longitude  pickup_latitude   \n",
       "13823843  trip_time_in_secs  trip_distance  pickup_longitude  pickup_latitude   \n",
       "13823844  trip_time_in_secs  trip_distance  pickup_longitude  pickup_latitude   \n",
       "\n",
       "          dropoff_longitude  dropoff_latitude  \n",
       "13823840  dropoff_longitude  dropoff_latitude  \n",
       "13823841  dropoff_longitude  dropoff_latitude  \n",
       "13823842  dropoff_longitude  dropoff_latitude  \n",
       "13823843  dropoff_longitude  dropoff_latitude  \n",
       "13823844  dropoff_longitude  dropoff_latitude  "
      ]
     },
     "execution_count": 7,
     "metadata": {},
     "output_type": "execute_result"
    }
   ],
   "source": [
    "df.tail()"
   ]
  },
  {
   "cell_type": "code",
   "execution_count": 4,
   "metadata": {
    "collapsed": false
   },
   "outputs": [
    {
     "data": {
      "text/plain": [
       "23"
      ]
     },
     "execution_count": 4,
     "metadata": {},
     "output_type": "execute_result"
    }
   ],
   "source": [
    "df['pickup_date'].apply(lambda x: x.hour).max()"
   ]
  },
  {
   "cell_type": "code",
   "execution_count": 3,
   "metadata": {
    "collapsed": false
   },
   "outputs": [
    {
     "data": {
      "text/plain": [
       "pandas.tslib.Timestamp"
      ]
     },
     "execution_count": 3,
     "metadata": {},
     "output_type": "execute_result"
    }
   ],
   "source": [
    "type(df['pickup_date'][0])"
   ]
  }
 ],
 "metadata": {
  "kernelspec": {
   "display_name": "Python 3",
   "language": "python",
   "name": "python3"
  },
  "language_info": {
   "codemirror_mode": {
    "name": "ipython",
    "version": 3
   },
   "file_extension": ".py",
   "mimetype": "text/x-python",
   "name": "python",
   "nbconvert_exporter": "python",
   "pygments_lexer": "ipython3",
   "version": "3.4.3"
  }
 },
 "nbformat": 4,
 "nbformat_minor": 0
}
