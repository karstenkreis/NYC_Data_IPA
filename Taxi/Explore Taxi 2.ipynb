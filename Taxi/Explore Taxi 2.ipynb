{
 "cells": [
  {
   "cell_type": "code",
   "execution_count": 16,
   "metadata": {
    "collapsed": false
   },
   "outputs": [],
   "source": [
    "import pandas as pd\n",
    "import numpy as np\n",
    "import matplotlib.pyplot as plt\n",
    "import matplotlib\n",
    "import datetime\n",
    "\n",
    "%matplotlib inline\n",
    "\n",
    "df = pd.read_csv('/Users/eladg/Documents/Git/NYC_Data_IPA/Taxi/allTaxiData.csv',\n",
    "                dtype = {'Day of Year': np.uint16, 'Day of Month': np.uint8, 'Day of Week': np.uint8,\n",
    "                        'Month': np.uint8, 'Hour': np.uint8, 'passenger_count': np.uint8,\n",
    "                        'trip_time_in_secs': np.uint16, 'trip_distance': np.float16, 'pickup_longitude': np.float,\n",
    "                        'pickup_latitude': np.float, 'dropoff_longitude': np.float, 'dropoff_latitude': np.float})"
   ]
  },
  {
   "cell_type": "code",
   "execution_count": 17,
   "metadata": {
    "collapsed": false
   },
   "outputs": [
    {
     "data": {
      "text/html": [
       "<div style=\"max-height:1000px;max-width:1500px;overflow:auto;\">\n",
       "<table border=\"1\" class=\"dataframe\">\n",
       "  <thead>\n",
       "    <tr style=\"text-align: right;\">\n",
       "      <th></th>\n",
       "      <th>Day of year</th>\n",
       "      <th>Day of Month</th>\n",
       "      <th>Day of week</th>\n",
       "      <th>Month</th>\n",
       "      <th>Hour</th>\n",
       "      <th>passenger_count</th>\n",
       "      <th>trip_time_in_secs</th>\n",
       "      <th>trip_distance</th>\n",
       "      <th>pickup_longitude</th>\n",
       "      <th>pickup_latitude</th>\n",
       "      <th>dropoff_longitude</th>\n",
       "      <th>dropoff_latitude</th>\n",
       "    </tr>\n",
       "  </thead>\n",
       "  <tbody>\n",
       "    <tr>\n",
       "      <th>0</th>\n",
       "      <td> 182</td>\n",
       "      <td> 1</td>\n",
       "      <td> 0</td>\n",
       "      <td> 7</td>\n",
       "      <td> 1</td>\n",
       "      <td> 1</td>\n",
       "      <td> 300</td>\n",
       "      <td> 1.169922</td>\n",
       "      <td>-74.013229</td>\n",
       "      <td> 40.714718</td>\n",
       "      <td>-74.003494</td>\n",
       "      <td> 40.725285</td>\n",
       "    </tr>\n",
       "    <tr>\n",
       "      <th>1</th>\n",
       "      <td> 182</td>\n",
       "      <td> 1</td>\n",
       "      <td> 0</td>\n",
       "      <td> 7</td>\n",
       "      <td> 1</td>\n",
       "      <td> 1</td>\n",
       "      <td> 780</td>\n",
       "      <td> 4.171875</td>\n",
       "      <td>-73.980865</td>\n",
       "      <td> 40.763947</td>\n",
       "      <td>-73.933884</td>\n",
       "      <td> 40.767677</td>\n",
       "    </tr>\n",
       "    <tr>\n",
       "      <th>2</th>\n",
       "      <td> 182</td>\n",
       "      <td> 1</td>\n",
       "      <td> 0</td>\n",
       "      <td> 7</td>\n",
       "      <td> 1</td>\n",
       "      <td> 1</td>\n",
       "      <td> 840</td>\n",
       "      <td> 2.980469</td>\n",
       "      <td>-74.007568</td>\n",
       "      <td> 40.740898</td>\n",
       "      <td>-73.980118</td>\n",
       "      <td> 40.713985</td>\n",
       "    </tr>\n",
       "    <tr>\n",
       "      <th>3</th>\n",
       "      <td> 182</td>\n",
       "      <td> 1</td>\n",
       "      <td> 0</td>\n",
       "      <td> 7</td>\n",
       "      <td> 1</td>\n",
       "      <td> 1</td>\n",
       "      <td> 240</td>\n",
       "      <td> 0.750000</td>\n",
       "      <td>-73.985466</td>\n",
       "      <td> 40.718342</td>\n",
       "      <td>-73.982841</td>\n",
       "      <td> 40.727016</td>\n",
       "    </tr>\n",
       "    <tr>\n",
       "      <th>4</th>\n",
       "      <td> 182</td>\n",
       "      <td> 1</td>\n",
       "      <td> 0</td>\n",
       "      <td> 7</td>\n",
       "      <td> 1</td>\n",
       "      <td> 1</td>\n",
       "      <td> 720</td>\n",
       "      <td> 1.759766</td>\n",
       "      <td>-74.005630</td>\n",
       "      <td> 40.726448</td>\n",
       "      <td>-74.003906</td>\n",
       "      <td> 40.742031</td>\n",
       "    </tr>\n",
       "  </tbody>\n",
       "</table>\n",
       "</div>"
      ],
      "text/plain": [
       "   Day of year  Day of Month  Day of week  Month  Hour  passenger_count  \\\n",
       "0          182             1            0      7     1                1   \n",
       "1          182             1            0      7     1                1   \n",
       "2          182             1            0      7     1                1   \n",
       "3          182             1            0      7     1                1   \n",
       "4          182             1            0      7     1                1   \n",
       "\n",
       "   trip_time_in_secs  trip_distance  pickup_longitude  pickup_latitude  \\\n",
       "0                300       1.169922        -74.013229        40.714718   \n",
       "1                780       4.171875        -73.980865        40.763947   \n",
       "2                840       2.980469        -74.007568        40.740898   \n",
       "3                240       0.750000        -73.985466        40.718342   \n",
       "4                720       1.759766        -74.005630        40.726448   \n",
       "\n",
       "   dropoff_longitude  dropoff_latitude  \n",
       "0         -74.003494         40.725285  \n",
       "1         -73.933884         40.767677  \n",
       "2         -73.980118         40.713985  \n",
       "3         -73.982841         40.727016  \n",
       "4         -74.003906         40.742031  "
      ]
     },
     "execution_count": 17,
     "metadata": {},
     "output_type": "execute_result"
    }
   ],
   "source": [
    "df.head()"
   ]
  },
  {
   "cell_type": "code",
   "execution_count": 18,
   "metadata": {
    "collapsed": false
   },
   "outputs": [
    {
     "data": {
      "image/png": "[encoded data removed]",
      "text/plain": [
       "<matplotlib.figure.Figure at 0x107a27400>"
      ]
     },
     "metadata": {},
     "output_type": "display_data"
    }
   ],
   "source": [
    "m = df['Month'].values\n",
    "x = plt.hist(m,bins = np.arange(0.5,13.5))"
   ]
  },
  {
   "cell_type": "code",
   "execution_count": 19,
   "metadata": {
    "collapsed": false
   },
   "outputs": [
    {
     "data": {
      "text/plain": [
       "datetime.datetime"
      ]
     },
     "execution_count": 19,
     "metadata": {},
     "output_type": "execute_result"
    }
   ],
   "source": [
    "datetime.datetime"
   ]
  },
  {
   "cell_type": "code",
   "execution_count": 11,
   "metadata": {
    "collapsed": false
   },
   "outputs": [
    {
     "data": {
      "text/plain": [
       "[5, 6]"
      ]
     },
     "execution_count": 11,
     "metadata": {},
     "output_type": "execute_result"
    }
   ],
   "source": [
    "ls = [5,6,7,8,9]\n",
    "ls[0:2]"
   ]
  },
  {
   "cell_type": "code",
   "execution_count": 15,
   "metadata": {
    "collapsed": false
   },
   "outputs": [
    {
     "data": {
      "text/plain": [
       "[1, 2, 3, 5, 6, 7]"
      ]
     },
     "execution_count": 15,
     "metadata": {},
     "output_type": "execute_result"
    }
   ],
   "source": [
    "ls = [i for i in range(5,8)]\n",
    "[1,2,3] + ls"
   ]
  },
  {
   "cell_type": "code",
   "execution_count": 17,
   "metadata": {
    "collapsed": false
   },
   "outputs": [
    {
     "data": {
      "text/plain": [
       "'aaaaa bbbbb'"
      ]
     },
     "execution_count": 17,
     "metadata": {},
     "output_type": "execute_result"
    }
   ],
   "source": [
    "\"  aaaaa bbbbb \".strip()"
   ]
  },
  {
   "cell_type": "code",
   "execution_count": null,
   "metadata": {
    "collapsed": true
   },
   "outputs": [],
   "source": []
  }
 ],
 "metadata": {
  "kernelspec": {
   "display_name": "Python 3",
   "language": "python",
   "name": "python3"
  },
  "language_info": {
   "codemirror_mode": {
    "name": "ipython",
    "version": 3
   },
   "file_extension": ".py",
   "mimetype": "text/x-python",
   "name": "python",
   "nbconvert_exporter": "python",
   "pygments_lexer": "ipython3",
   "version": "3.4.3"
  }
 },
 "nbformat": 4,
 "nbformat_minor": 0
}
