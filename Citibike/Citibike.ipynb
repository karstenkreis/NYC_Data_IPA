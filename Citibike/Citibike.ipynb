{
 "cells": [
  {
   "cell_type": "markdown",
   "metadata": {},
   "source": [
    "# Citibike data\n",
    "\n",
    "Citibike makes the data available as a csv file for each month. Here we will use data from July through December 2013. \n",
    "\n",
    "(To reproduce the analysis **you can skip this following section** and start with the pickled pandas dataFrame in the next section)."
   ]
  },
  {
   "cell_type": "markdown",
   "metadata": {},
   "source": [
    "______________________________________________________________________________________________________________________\n",
    "\n",
    "## Prepare dataFrame\n",
    "\n",
    "\n",
    "Download required files from Citibike's website [here](http://www.citibikenyc.com/system-data) and read data."
   ]
  },
  {
   "cell_type": "code",
   "execution_count": 43,
   "metadata": {
    "collapsed": false
   },
   "outputs": [],
   "source": [
    "import pandas as pd\n",
    "import datetime as dt"
   ]
  },
  {
   "cell_type": "code",
   "execution_count": 43,
   "metadata": {
    "collapsed": false
   },
   "outputs": [],
   "source": [
    "jul = pd.read_csv('Data/2013-07-CitiBiketripdata.csv')\n",
    "aug = pd.read_csv('Data/2013-08-CitiBiketripdata.csv')\n",
    "sep = pd.read_csv('Data/2013-09-CitiBiketripdata.csv')\n",
    "oct = pd.read_csv('Data/2013-10-CitiBiketripdata.csv')\n",
    "nov = pd.read_csv('Data/2013-11-CitiBiketripdata.csv')\n",
    "dec = pd.read_csv('Data/2013-12-CitiBiketripdata.csv')"
   ]
  },
  {
   "cell_type": "markdown",
   "metadata": {},
   "source": [
    "Combine data from all months to create a single dataFrame."
   ]
  },
  {
   "cell_type": "code",
   "execution_count": 44,
   "metadata": {
    "collapsed": false
   },
   "outputs": [],
   "source": [
    "data = [jul, aug, sep, oct, nov, dec]\n",
    "df = pd.concat(data)"
   ]
  },
  {
   "cell_type": "code",
   "execution_count": 45,
   "metadata": {
    "collapsed": false
   },
   "outputs": [
    {
     "data": {
      "text/html": [
       "<div>\n",
       "<table border=\"1\" class=\"dataframe\">\n",
       "  <thead>\n",
       "    <tr style=\"text-align: right;\">\n",
       "      <th></th>\n",
       "      <th>tripduration</th>\n",
       "      <th>starttime</th>\n",
       "      <th>stoptime</th>\n",
       "      <th>start station id</th>\n",
       "      <th>start station name</th>\n",
       "      <th>start station latitude</th>\n",
       "      <th>start station longitude</th>\n",
       "      <th>end station id</th>\n",
       "      <th>end station name</th>\n",
       "      <th>end station latitude</th>\n",
       "      <th>end station longitude</th>\n",
       "      <th>bikeid</th>\n",
       "      <th>usertype</th>\n",
       "      <th>birth year</th>\n",
       "      <th>gender</th>\n",
       "    </tr>\n",
       "  </thead>\n",
       "  <tbody>\n",
       "    <tr>\n",
       "      <th>0</th>\n",
       "      <td>634</td>\n",
       "      <td>2013-07-01 00:00:00</td>\n",
       "      <td>2013-07-01 00:10:34</td>\n",
       "      <td>164</td>\n",
       "      <td>E 47 St &amp; 2 Ave</td>\n",
       "      <td>40.753231</td>\n",
       "      <td>-73.970325</td>\n",
       "      <td>504</td>\n",
       "      <td>1 Ave &amp; E 15 St</td>\n",
       "      <td>40.732219</td>\n",
       "      <td>-73.981656</td>\n",
       "      <td>16950</td>\n",
       "      <td>Customer</td>\n",
       "      <td>\\N</td>\n",
       "      <td>0</td>\n",
       "    </tr>\n",
       "    <tr>\n",
       "      <th>1</th>\n",
       "      <td>1547</td>\n",
       "      <td>2013-07-01 00:00:02</td>\n",
       "      <td>2013-07-01 00:25:49</td>\n",
       "      <td>388</td>\n",
       "      <td>W 26 St &amp; 10 Ave</td>\n",
       "      <td>40.749718</td>\n",
       "      <td>-74.002950</td>\n",
       "      <td>459</td>\n",
       "      <td>W 20 St &amp; 11 Ave</td>\n",
       "      <td>40.746745</td>\n",
       "      <td>-74.007756</td>\n",
       "      <td>19816</td>\n",
       "      <td>Customer</td>\n",
       "      <td>\\N</td>\n",
       "      <td>0</td>\n",
       "    </tr>\n",
       "    <tr>\n",
       "      <th>2</th>\n",
       "      <td>178</td>\n",
       "      <td>2013-07-01 00:01:04</td>\n",
       "      <td>2013-07-01 00:04:02</td>\n",
       "      <td>293</td>\n",
       "      <td>Lafayette St &amp; E 8 St</td>\n",
       "      <td>40.730287</td>\n",
       "      <td>-73.990765</td>\n",
       "      <td>237</td>\n",
       "      <td>E 11 St &amp; 2 Ave</td>\n",
       "      <td>40.730473</td>\n",
       "      <td>-73.986724</td>\n",
       "      <td>14548</td>\n",
       "      <td>Subscriber</td>\n",
       "      <td>1980</td>\n",
       "      <td>2</td>\n",
       "    </tr>\n",
       "    <tr>\n",
       "      <th>3</th>\n",
       "      <td>1580</td>\n",
       "      <td>2013-07-01 00:01:06</td>\n",
       "      <td>2013-07-01 00:27:26</td>\n",
       "      <td>531</td>\n",
       "      <td>Forsyth St &amp; Broome St</td>\n",
       "      <td>40.718939</td>\n",
       "      <td>-73.992663</td>\n",
       "      <td>499</td>\n",
       "      <td>Broadway &amp; W 60 St</td>\n",
       "      <td>40.769155</td>\n",
       "      <td>-73.981918</td>\n",
       "      <td>16063</td>\n",
       "      <td>Customer</td>\n",
       "      <td>\\N</td>\n",
       "      <td>0</td>\n",
       "    </tr>\n",
       "    <tr>\n",
       "      <th>4</th>\n",
       "      <td>757</td>\n",
       "      <td>2013-07-01 00:01:10</td>\n",
       "      <td>2013-07-01 00:13:47</td>\n",
       "      <td>382</td>\n",
       "      <td>University Pl &amp; E 14 St</td>\n",
       "      <td>40.734927</td>\n",
       "      <td>-73.992005</td>\n",
       "      <td>410</td>\n",
       "      <td>Suffolk St &amp; Stanton St</td>\n",
       "      <td>40.720664</td>\n",
       "      <td>-73.985180</td>\n",
       "      <td>19213</td>\n",
       "      <td>Subscriber</td>\n",
       "      <td>1986</td>\n",
       "      <td>1</td>\n",
       "    </tr>\n",
       "  </tbody>\n",
       "</table>\n",
       "</div>"
      ],
      "text/plain": [
       "   tripduration            starttime             stoptime  start station id  \\\n",
       "0           634  2013-07-01 00:00:00  2013-07-01 00:10:34               164   \n",
       "1          1547  2013-07-01 00:00:02  2013-07-01 00:25:49               388   \n",
       "2           178  2013-07-01 00:01:04  2013-07-01 00:04:02               293   \n",
       "3          1580  2013-07-01 00:01:06  2013-07-01 00:27:26               531   \n",
       "4           757  2013-07-01 00:01:10  2013-07-01 00:13:47               382   \n",
       "\n",
       "        start station name  start station latitude  start station longitude  \\\n",
       "0          E 47 St & 2 Ave               40.753231               -73.970325   \n",
       "1         W 26 St & 10 Ave               40.749718               -74.002950   \n",
       "2    Lafayette St & E 8 St               40.730287               -73.990765   \n",
       "3   Forsyth St & Broome St               40.718939               -73.992663   \n",
       "4  University Pl & E 14 St               40.734927               -73.992005   \n",
       "\n",
       "   end station id         end station name  end station latitude  \\\n",
       "0             504          1 Ave & E 15 St             40.732219   \n",
       "1             459         W 20 St & 11 Ave             40.746745   \n",
       "2             237          E 11 St & 2 Ave             40.730473   \n",
       "3             499       Broadway & W 60 St             40.769155   \n",
       "4             410  Suffolk St & Stanton St             40.720664   \n",
       "\n",
       "   end station longitude  bikeid    usertype birth year  gender  \n",
       "0             -73.981656   16950    Customer         \\N       0  \n",
       "1             -74.007756   19816    Customer         \\N       0  \n",
       "2             -73.986724   14548  Subscriber       1980       2  \n",
       "3             -73.981918   16063    Customer         \\N       0  \n",
       "4             -73.985180   19213  Subscriber       1986       1  "
      ]
     },
     "execution_count": 45,
     "metadata": {},
     "output_type": "execute_result"
    }
   ],
   "source": [
    "df.head(5)"
   ]
  },
  {
   "cell_type": "markdown",
   "metadata": {},
   "source": [
    "Convert starttime and stoptime to \"datetime\" data type and index dataFrame by starttime."
   ]
  },
  {
   "cell_type": "code",
   "execution_count": 47,
   "metadata": {
    "collapsed": true
   },
   "outputs": [],
   "source": [
    "df['starttime'] = pd.to_datetime(df['starttime'])\n",
    "df['stoptime'] = pd.to_datetime(df['stoptime'])\n",
    "df.index = pd.to_datetime(df['starttime'])"
   ]
  },
  {
   "cell_type": "code",
   "execution_count": 48,
   "metadata": {
    "collapsed": false
   },
   "outputs": [
    {
     "data": {
      "text/plain": [
       "tripduration                        int64\n",
       "starttime                  datetime64[ns]\n",
       "stoptime                   datetime64[ns]\n",
       "start station id                    int64\n",
       "start station name                 object\n",
       "start station latitude            float64\n",
       "start station longitude           float64\n",
       "end station id                      int64\n",
       "end station name                   object\n",
       "end station latitude              float64\n",
       "end station longitude             float64\n",
       "bikeid                              int64\n",
       "usertype                           object\n",
       "birth year                         object\n",
       "gender                              int64\n",
       "dtype: object"
      ]
     },
     "execution_count": 48,
     "metadata": {},
     "output_type": "execute_result"
    }
   ],
   "source": [
    "df.dtypes"
   ]
  },
  {
   "cell_type": "markdown",
   "metadata": {},
   "source": [
    "Create columns for month, day, and hour (according to trip start time)."
   ]
  },
  {
   "cell_type": "code",
   "execution_count": 26,
   "metadata": {
    "collapsed": false
   },
   "outputs": [],
   "source": [
    "df['month'] = df['starttime'].dt.month\n",
    "df['day_of_month'] = df['starttime'].dt.day\n",
    "df['day_of_week'] = df['starttime'].dt.dayofweek\n",
    "df['hour'] = df['starttime'].dt.hour"
   ]
  },
  {
   "cell_type": "markdown",
   "metadata": {},
   "source": [
    "Put new columns at the beginning."
   ]
  },
  {
   "cell_type": "code",
   "execution_count": 29,
   "metadata": {
    "collapsed": false
   },
   "outputs": [],
   "source": [
    "# list(df.columns.values)\n",
    "df = df[['month', 'day_of_month', 'day_of_week', 'hour', 'tripduration', 'starttime', 'stoptime',\n",
    "         'start station id', 'start station name', 'start station latitude',\n",
    "         'start station longitude', 'end station id', 'end station name', 'end station latitude',\n",
    "         'end station longitude', 'bikeid', 'usertype', 'birth year', 'gender']]"
   ]
  },
  {
   "cell_type": "markdown",
   "metadata": {},
   "source": [
    "**Pickle final dataFrame.**"
   ]
  },
  {
   "cell_type": "code",
   "execution_count": 31,
   "metadata": {
    "collapsed": true
   },
   "outputs": [],
   "source": [
    "file_name = 'citibike_July-Aug2013.pkl'\n",
    "df.to_pickle(file_name)"
   ]
  },
  {
   "cell_type": "markdown",
   "metadata": {},
   "source": [
    "## Brief exploratory analysis\n"
   ]
  },
  {
   "cell_type": "code",
   "execution_count": 1,
   "metadata": {
    "collapsed": false
   },
   "outputs": [],
   "source": [
    "import pandas as pd\n",
    "import numpy as np\n",
    "from datetime import time\n",
    "import matplotlib.pyplot as plt\n",
    "import datetime as dt\n",
    "\n",
    "%matplotlib inline"
   ]
  },
  {
   "cell_type": "markdown",
   "metadata": {},
   "source": [
    "Load pickled dataFrame (pkl can be downloaded from [here](https://www.dropbox.com/s/m92e69sfleex0zj/citibike_July-Aug2013.pkl?dl=0)).\n",
    "\n",
    "(Skip this if you loaded data in previous section)"
   ]
  },
  {
   "cell_type": "code",
   "execution_count": 2,
   "metadata": {
    "collapsed": false
   },
   "outputs": [
    {
     "name": "stdout",
     "output_type": "stream",
     "text": [
      "CPU times: user 10.5 s, sys: 1.9 s, total: 12.4 s\n",
      "Wall time: 24.7 s\n"
     ]
    }
   ],
   "source": [
    "file_name = 'citibike_July-Aug2013.pkl'\n",
    "%time df = pd.read_pickle(file_name)"
   ]
  },
  {
   "cell_type": "code",
   "execution_count": 3,
   "metadata": {
    "collapsed": false
   },
   "outputs": [
    {
     "data": {
      "text/plain": [
       "(5037185, 19)"
      ]
     },
     "execution_count": 3,
     "metadata": {},
     "output_type": "execute_result"
    }
   ],
   "source": [
    "df.shape"
   ]
  },
  {
   "cell_type": "code",
   "execution_count": 4,
   "metadata": {
    "collapsed": false
   },
   "outputs": [
    {
     "data": {
      "text/plain": [
       "month                               int64\n",
       "day_of_month                        int64\n",
       "day_of_week                         int64\n",
       "hour                                int64\n",
       "tripduration                        int64\n",
       "starttime                  datetime64[ns]\n",
       "stoptime                   datetime64[ns]\n",
       "start station id                    int64\n",
       "start station name                 object\n",
       "start station latitude            float64\n",
       "start station longitude           float64\n",
       "end station id                      int64\n",
       "end station name                   object\n",
       "end station latitude              float64\n",
       "end station longitude             float64\n",
       "bikeid                              int64\n",
       "usertype                           object\n",
       "birth year                         object\n",
       "gender                              int64\n",
       "dtype: object"
      ]
     },
     "execution_count": 4,
     "metadata": {},
     "output_type": "execute_result"
    }
   ],
   "source": [
    "df.dtypes"
   ]
  },
  {
   "cell_type": "code",
   "execution_count": 5,
   "metadata": {
    "collapsed": false
   },
   "outputs": [
    {
     "data": {
      "text/html": [
       "<div style=\"max-height:1000px;max-width:1500px;overflow:auto;\">\n",
       "<table border=\"1\" class=\"dataframe\">\n",
       "  <thead>\n",
       "    <tr style=\"text-align: right;\">\n",
       "      <th></th>\n",
       "      <th>month</th>\n",
       "      <th>day_of_month</th>\n",
       "      <th>day_of_week</th>\n",
       "      <th>hour</th>\n",
       "      <th>tripduration</th>\n",
       "      <th>starttime</th>\n",
       "      <th>stoptime</th>\n",
       "      <th>start station id</th>\n",
       "      <th>start station name</th>\n",
       "      <th>start station latitude</th>\n",
       "      <th>start station longitude</th>\n",
       "      <th>end station id</th>\n",
       "      <th>end station name</th>\n",
       "      <th>end station latitude</th>\n",
       "      <th>end station longitude</th>\n",
       "      <th>bikeid</th>\n",
       "      <th>usertype</th>\n",
       "      <th>birth year</th>\n",
       "      <th>gender</th>\n",
       "    </tr>\n",
       "    <tr>\n",
       "      <th>starttime</th>\n",
       "      <th></th>\n",
       "      <th></th>\n",
       "      <th></th>\n",
       "      <th></th>\n",
       "      <th></th>\n",
       "      <th></th>\n",
       "      <th></th>\n",
       "      <th></th>\n",
       "      <th></th>\n",
       "      <th></th>\n",
       "      <th></th>\n",
       "      <th></th>\n",
       "      <th></th>\n",
       "      <th></th>\n",
       "      <th></th>\n",
       "      <th></th>\n",
       "      <th></th>\n",
       "      <th></th>\n",
       "      <th></th>\n",
       "    </tr>\n",
       "  </thead>\n",
       "  <tbody>\n",
       "    <tr>\n",
       "      <th>2013-07-01 00:00:00</th>\n",
       "      <td>7</td>\n",
       "      <td>1</td>\n",
       "      <td>0</td>\n",
       "      <td>0</td>\n",
       "      <td>634</td>\n",
       "      <td>2013-07-01 00:00:00</td>\n",
       "      <td>2013-07-01 00:10:34</td>\n",
       "      <td>164</td>\n",
       "      <td>E 47 St &amp; 2 Ave</td>\n",
       "      <td>40.753231</td>\n",
       "      <td>-73.970325</td>\n",
       "      <td>504</td>\n",
       "      <td>1 Ave &amp; E 15 St</td>\n",
       "      <td>40.732219</td>\n",
       "      <td>-73.981656</td>\n",
       "      <td>16950</td>\n",
       "      <td>Customer</td>\n",
       "      <td>\\N</td>\n",
       "      <td>0</td>\n",
       "    </tr>\n",
       "    <tr>\n",
       "      <th>2013-07-01 00:00:02</th>\n",
       "      <td>7</td>\n",
       "      <td>1</td>\n",
       "      <td>0</td>\n",
       "      <td>0</td>\n",
       "      <td>1547</td>\n",
       "      <td>2013-07-01 00:00:02</td>\n",
       "      <td>2013-07-01 00:25:49</td>\n",
       "      <td>388</td>\n",
       "      <td>W 26 St &amp; 10 Ave</td>\n",
       "      <td>40.749718</td>\n",
       "      <td>-74.002950</td>\n",
       "      <td>459</td>\n",
       "      <td>W 20 St &amp; 11 Ave</td>\n",
       "      <td>40.746745</td>\n",
       "      <td>-74.007756</td>\n",
       "      <td>19816</td>\n",
       "      <td>Customer</td>\n",
       "      <td>\\N</td>\n",
       "      <td>0</td>\n",
       "    </tr>\n",
       "    <tr>\n",
       "      <th>2013-07-01 00:01:04</th>\n",
       "      <td>7</td>\n",
       "      <td>1</td>\n",
       "      <td>0</td>\n",
       "      <td>0</td>\n",
       "      <td>178</td>\n",
       "      <td>2013-07-01 00:01:04</td>\n",
       "      <td>2013-07-01 00:04:02</td>\n",
       "      <td>293</td>\n",
       "      <td>Lafayette St &amp; E 8 St</td>\n",
       "      <td>40.730287</td>\n",
       "      <td>-73.990765</td>\n",
       "      <td>237</td>\n",
       "      <td>E 11 St &amp; 2 Ave</td>\n",
       "      <td>40.730473</td>\n",
       "      <td>-73.986724</td>\n",
       "      <td>14548</td>\n",
       "      <td>Subscriber</td>\n",
       "      <td>1980</td>\n",
       "      <td>2</td>\n",
       "    </tr>\n",
       "    <tr>\n",
       "      <th>2013-07-01 00:01:06</th>\n",
       "      <td>7</td>\n",
       "      <td>1</td>\n",
       "      <td>0</td>\n",
       "      <td>0</td>\n",
       "      <td>1580</td>\n",
       "      <td>2013-07-01 00:01:06</td>\n",
       "      <td>2013-07-01 00:27:26</td>\n",
       "      <td>531</td>\n",
       "      <td>Forsyth St &amp; Broome St</td>\n",
       "      <td>40.718939</td>\n",
       "      <td>-73.992663</td>\n",
       "      <td>499</td>\n",
       "      <td>Broadway &amp; W 60 St</td>\n",
       "      <td>40.769155</td>\n",
       "      <td>-73.981918</td>\n",
       "      <td>16063</td>\n",
       "      <td>Customer</td>\n",
       "      <td>\\N</td>\n",
       "      <td>0</td>\n",
       "    </tr>\n",
       "    <tr>\n",
       "      <th>2013-07-01 00:01:10</th>\n",
       "      <td>7</td>\n",
       "      <td>1</td>\n",
       "      <td>0</td>\n",
       "      <td>0</td>\n",
       "      <td>757</td>\n",
       "      <td>2013-07-01 00:01:10</td>\n",
       "      <td>2013-07-01 00:13:47</td>\n",
       "      <td>382</td>\n",
       "      <td>University Pl &amp; E 14 St</td>\n",
       "      <td>40.734927</td>\n",
       "      <td>-73.992005</td>\n",
       "      <td>410</td>\n",
       "      <td>Suffolk St &amp; Stanton St</td>\n",
       "      <td>40.720664</td>\n",
       "      <td>-73.985180</td>\n",
       "      <td>19213</td>\n",
       "      <td>Subscriber</td>\n",
       "      <td>1986</td>\n",
       "      <td>1</td>\n",
       "    </tr>\n",
       "  </tbody>\n",
       "</table>\n",
       "</div>"
      ],
      "text/plain": [
       "                     month  day_of_month  day_of_week  hour  tripduration  \\\n",
       "starttime                                                                   \n",
       "2013-07-01 00:00:00      7             1            0     0           634   \n",
       "2013-07-01 00:00:02      7             1            0     0          1547   \n",
       "2013-07-01 00:01:04      7             1            0     0           178   \n",
       "2013-07-01 00:01:06      7             1            0     0          1580   \n",
       "2013-07-01 00:01:10      7             1            0     0           757   \n",
       "\n",
       "                              starttime            stoptime  start station id  \\\n",
       "starttime                                                                       \n",
       "2013-07-01 00:00:00 2013-07-01 00:00:00 2013-07-01 00:10:34               164   \n",
       "2013-07-01 00:00:02 2013-07-01 00:00:02 2013-07-01 00:25:49               388   \n",
       "2013-07-01 00:01:04 2013-07-01 00:01:04 2013-07-01 00:04:02               293   \n",
       "2013-07-01 00:01:06 2013-07-01 00:01:06 2013-07-01 00:27:26               531   \n",
       "2013-07-01 00:01:10 2013-07-01 00:01:10 2013-07-01 00:13:47               382   \n",
       "\n",
       "                          start station name  start station latitude  \\\n",
       "starttime                                                              \n",
       "2013-07-01 00:00:00          E 47 St & 2 Ave               40.753231   \n",
       "2013-07-01 00:00:02         W 26 St & 10 Ave               40.749718   \n",
       "2013-07-01 00:01:04    Lafayette St & E 8 St               40.730287   \n",
       "2013-07-01 00:01:06   Forsyth St & Broome St               40.718939   \n",
       "2013-07-01 00:01:10  University Pl & E 14 St               40.734927   \n",
       "\n",
       "                     start station longitude  end station id  \\\n",
       "starttime                                                      \n",
       "2013-07-01 00:00:00               -73.970325             504   \n",
       "2013-07-01 00:00:02               -74.002950             459   \n",
       "2013-07-01 00:01:04               -73.990765             237   \n",
       "2013-07-01 00:01:06               -73.992663             499   \n",
       "2013-07-01 00:01:10               -73.992005             410   \n",
       "\n",
       "                            end station name  end station latitude  \\\n",
       "starttime                                                            \n",
       "2013-07-01 00:00:00          1 Ave & E 15 St             40.732219   \n",
       "2013-07-01 00:00:02         W 20 St & 11 Ave             40.746745   \n",
       "2013-07-01 00:01:04          E 11 St & 2 Ave             40.730473   \n",
       "2013-07-01 00:01:06       Broadway & W 60 St             40.769155   \n",
       "2013-07-01 00:01:10  Suffolk St & Stanton St             40.720664   \n",
       "\n",
       "                     end station longitude  bikeid    usertype birth year  \\\n",
       "starttime                                                                   \n",
       "2013-07-01 00:00:00             -73.981656   16950    Customer         \\N   \n",
       "2013-07-01 00:00:02             -74.007756   19816    Customer         \\N   \n",
       "2013-07-01 00:01:04             -73.986724   14548  Subscriber       1980   \n",
       "2013-07-01 00:01:06             -73.981918   16063    Customer         \\N   \n",
       "2013-07-01 00:01:10             -73.985180   19213  Subscriber       1986   \n",
       "\n",
       "                     gender  \n",
       "starttime                    \n",
       "2013-07-01 00:00:00       0  \n",
       "2013-07-01 00:00:02       0  \n",
       "2013-07-01 00:01:04       2  \n",
       "2013-07-01 00:01:06       0  \n",
       "2013-07-01 00:01:10       1  "
      ]
     },
     "execution_count": 5,
     "metadata": {},
     "output_type": "execute_result"
    }
   ],
   "source": [
    "df.head()"
   ]
  },
  {
   "cell_type": "markdown",
   "metadata": {
    "collapsed": true
   },
   "source": [
    "How many citibike stations are there:"
   ]
  },
  {
   "cell_type": "code",
   "execution_count": 6,
   "metadata": {
    "collapsed": false
   },
   "outputs": [
    {
     "data": {
      "text/plain": [
       "(330,)"
      ]
     },
     "execution_count": 6,
     "metadata": {},
     "output_type": "execute_result"
    }
   ],
   "source": [
    "df['start station id'].unique().shape"
   ]
  },
  {
   "cell_type": "markdown",
   "metadata": {},
   "source": [
    "And how many different bikes:"
   ]
  },
  {
   "cell_type": "code",
   "execution_count": 7,
   "metadata": {
    "collapsed": false
   },
   "outputs": [
    {
     "data": {
      "text/plain": [
       "(6503,)"
      ]
     },
     "execution_count": 7,
     "metadata": {},
     "output_type": "execute_result"
    }
   ],
   "source": [
    "df['bikeid'].unique().shape"
   ]
  },
  {
   "cell_type": "code",
   "execution_count": 8,
   "metadata": {
    "collapsed": false
   },
   "outputs": [
    {
     "data": {
      "text/html": [
       "<div style=\"max-height:1000px;max-width:1500px;overflow:auto;\">\n",
       "<table border=\"1\" class=\"dataframe\">\n",
       "  <thead>\n",
       "    <tr style=\"text-align: right;\">\n",
       "      <th></th>\n",
       "      <th>month</th>\n",
       "      <th>day_of_month</th>\n",
       "      <th>day_of_week</th>\n",
       "      <th>hour</th>\n",
       "      <th>tripduration</th>\n",
       "      <th>start station id</th>\n",
       "      <th>start station latitude</th>\n",
       "      <th>start station longitude</th>\n",
       "      <th>end station id</th>\n",
       "      <th>end station latitude</th>\n",
       "      <th>end station longitude</th>\n",
       "      <th>bikeid</th>\n",
       "      <th>gender</th>\n",
       "    </tr>\n",
       "  </thead>\n",
       "  <tbody>\n",
       "    <tr>\n",
       "      <th>count</th>\n",
       "      <td>5037185.000000</td>\n",
       "      <td>5037185.000000</td>\n",
       "      <td>5037185.000000</td>\n",
       "      <td>5037185.000000</td>\n",
       "      <td>5037185.000000</td>\n",
       "      <td>5037185.000000</td>\n",
       "      <td>5037185.000000</td>\n",
       "      <td>5037185.000000</td>\n",
       "      <td>5037185.000000</td>\n",
       "      <td>5037185.000000</td>\n",
       "      <td>5037185.000000</td>\n",
       "      <td>5037185.000000</td>\n",
       "      <td>5037185.000000</td>\n",
       "    </tr>\n",
       "    <tr>\n",
       "      <th>mean</th>\n",
       "      <td>9.204949</td>\n",
       "      <td>15.567202</td>\n",
       "      <td>2.887696</td>\n",
       "      <td>14.109534</td>\n",
       "      <td>887.638411</td>\n",
       "      <td>439.431707</td>\n",
       "      <td>40.734333</td>\n",
       "      <td>-73.991048</td>\n",
       "      <td>439.742451</td>\n",
       "      <td>40.734023</td>\n",
       "      <td>-73.991151</td>\n",
       "      <td>17650.751773</td>\n",
       "      <td>1.072951</td>\n",
       "    </tr>\n",
       "    <tr>\n",
       "      <th>std</th>\n",
       "      <td>1.537055</td>\n",
       "      <td>8.774732</td>\n",
       "      <td>1.955469</td>\n",
       "      <td>4.933382</td>\n",
       "      <td>3826.185719</td>\n",
       "      <td>343.173266</td>\n",
       "      <td>0.019921</td>\n",
       "      <td>0.012426</td>\n",
       "      <td>348.042293</td>\n",
       "      <td>0.019944</td>\n",
       "      <td>0.012520</td>\n",
       "      <td>1731.694085</td>\n",
       "      <td>0.576649</td>\n",
       "    </tr>\n",
       "    <tr>\n",
       "      <th>min</th>\n",
       "      <td>7.000000</td>\n",
       "      <td>1.000000</td>\n",
       "      <td>0.000000</td>\n",
       "      <td>0.000000</td>\n",
       "      <td>60.000000</td>\n",
       "      <td>72.000000</td>\n",
       "      <td>40.680342</td>\n",
       "      <td>-74.017134</td>\n",
       "      <td>72.000000</td>\n",
       "      <td>40.680342</td>\n",
       "      <td>-74.017134</td>\n",
       "      <td>14529.000000</td>\n",
       "      <td>0.000000</td>\n",
       "    </tr>\n",
       "    <tr>\n",
       "      <th>25%</th>\n",
       "      <td>8.000000</td>\n",
       "      <td>8.000000</td>\n",
       "      <td>1.000000</td>\n",
       "      <td>10.000000</td>\n",
       "      <td>405.000000</td>\n",
       "      <td>304.000000</td>\n",
       "      <td>40.720434</td>\n",
       "      <td>-74.000165</td>\n",
       "      <td>303.000000</td>\n",
       "      <td>40.720196</td>\n",
       "      <td>-74.000271</td>\n",
       "      <td>16155.000000</td>\n",
       "      <td>1.000000</td>\n",
       "    </tr>\n",
       "    <tr>\n",
       "      <th>50%</th>\n",
       "      <td>9.000000</td>\n",
       "      <td>16.000000</td>\n",
       "      <td>3.000000</td>\n",
       "      <td>15.000000</td>\n",
       "      <td>648.000000</td>\n",
       "      <td>402.000000</td>\n",
       "      <td>40.736197</td>\n",
       "      <td>-73.990765</td>\n",
       "      <td>402.000000</td>\n",
       "      <td>40.735439</td>\n",
       "      <td>-73.990931</td>\n",
       "      <td>17653.000000</td>\n",
       "      <td>1.000000</td>\n",
       "    </tr>\n",
       "    <tr>\n",
       "      <th>75%</th>\n",
       "      <td>10.000000</td>\n",
       "      <td>23.000000</td>\n",
       "      <td>5.000000</td>\n",
       "      <td>18.000000</td>\n",
       "      <td>1067.000000</td>\n",
       "      <td>485.000000</td>\n",
       "      <td>40.750200</td>\n",
       "      <td>-73.981948</td>\n",
       "      <td>484.000000</td>\n",
       "      <td>40.749718</td>\n",
       "      <td>-73.981948</td>\n",
       "      <td>19128.000000</td>\n",
       "      <td>1.000000</td>\n",
       "    </tr>\n",
       "    <tr>\n",
       "      <th>max</th>\n",
       "      <td>12.000000</td>\n",
       "      <td>31.000000</td>\n",
       "      <td>6.000000</td>\n",
       "      <td>23.000000</td>\n",
       "      <td>6250750.000000</td>\n",
       "      <td>3002.000000</td>\n",
       "      <td>40.770513</td>\n",
       "      <td>-73.950048</td>\n",
       "      <td>3002.000000</td>\n",
       "      <td>40.770513</td>\n",
       "      <td>-73.950048</td>\n",
       "      <td>21333.000000</td>\n",
       "      <td>2.000000</td>\n",
       "    </tr>\n",
       "  </tbody>\n",
       "</table>\n",
       "</div>"
      ],
      "text/plain": [
       "                month    day_of_month     day_of_week            hour  \\\n",
       "count  5037185.000000  5037185.000000  5037185.000000  5037185.000000   \n",
       "mean         9.204949       15.567202        2.887696       14.109534   \n",
       "std          1.537055        8.774732        1.955469        4.933382   \n",
       "min          7.000000        1.000000        0.000000        0.000000   \n",
       "25%          8.000000        8.000000        1.000000       10.000000   \n",
       "50%          9.000000       16.000000        3.000000       15.000000   \n",
       "75%         10.000000       23.000000        5.000000       18.000000   \n",
       "max         12.000000       31.000000        6.000000       23.000000   \n",
       "\n",
       "         tripduration  start station id  start station latitude  \\\n",
       "count  5037185.000000    5037185.000000          5037185.000000   \n",
       "mean       887.638411        439.431707               40.734333   \n",
       "std       3826.185719        343.173266                0.019921   \n",
       "min         60.000000         72.000000               40.680342   \n",
       "25%        405.000000        304.000000               40.720434   \n",
       "50%        648.000000        402.000000               40.736197   \n",
       "75%       1067.000000        485.000000               40.750200   \n",
       "max    6250750.000000       3002.000000               40.770513   \n",
       "\n",
       "       start station longitude  end station id  end station latitude  \\\n",
       "count           5037185.000000  5037185.000000        5037185.000000   \n",
       "mean                -73.991048      439.742451             40.734023   \n",
       "std                   0.012426      348.042293              0.019944   \n",
       "min                 -74.017134       72.000000             40.680342   \n",
       "25%                 -74.000165      303.000000             40.720196   \n",
       "50%                 -73.990765      402.000000             40.735439   \n",
       "75%                 -73.981948      484.000000             40.749718   \n",
       "max                 -73.950048     3002.000000             40.770513   \n",
       "\n",
       "       end station longitude          bikeid          gender  \n",
       "count         5037185.000000  5037185.000000  5037185.000000  \n",
       "mean              -73.991151    17650.751773        1.072951  \n",
       "std                 0.012520     1731.694085        0.576649  \n",
       "min               -74.017134    14529.000000        0.000000  \n",
       "25%               -74.000271    16155.000000        1.000000  \n",
       "50%               -73.990931    17653.000000        1.000000  \n",
       "75%               -73.981948    19128.000000        1.000000  \n",
       "max               -73.950048    21333.000000        2.000000  "
      ]
     },
     "execution_count": 8,
     "metadata": {},
     "output_type": "execute_result"
    }
   ],
   "source": [
    "df.describe()"
   ]
  },
  {
   "cell_type": "markdown",
   "metadata": {},
   "source": [
    "Median trip duration is (suprisingly) short:"
   ]
  },
  {
   "cell_type": "code",
   "execution_count": 9,
   "metadata": {
    "collapsed": false
   },
   "outputs": [
    {
     "data": {
      "text/plain": [
       "10.8"
      ]
     },
     "execution_count": 9,
     "metadata": {},
     "output_type": "execute_result"
    }
   ],
   "source": [
    "df.tripduration.median()/60 # In minutes"
   ]
  },
  {
   "cell_type": "code",
   "execution_count": 30,
   "metadata": {
    "collapsed": false
   },
   "outputs": [
    {
     "data": {
      "text/plain": [
       "<matplotlib.text.Text at 0x10b4b2550>"
      ]
     },
     "execution_count": 30,
     "metadata": {},
     "output_type": "execute_result"
    },
    {
     "data": {
      "image/png": "[encoded data removed]",
      "text/plain": [
       "<matplotlib.figure.Figure at 0x10b48d4d0>"
      ]
     },
     "metadata": {},
     "output_type": "display_data"
    }
   ],
   "source": [
    "plt.rcParams.update({'font.size': 16})\n",
    "df[(df['tripduration']/60 < 65)][['tripduration']].hist(figsize=(8,5),\n",
    "                                                        bins=15, alpha=0.5, color='orange')\n",
    "plt.title('Citibike trip durations\\n')\n",
    "plt.xlabel('Trip duration (in seconds)')\n",
    "plt.ylabel('Number of trips')"
   ]
  },
  {
   "cell_type": "markdown",
   "metadata": {},
   "source": [
    "### Distribution of number of trips"
   ]
  },
  {
   "cell_type": "markdown",
   "metadata": {},
   "source": [
    "#### Daily variation"
   ]
  },
  {
   "cell_type": "markdown",
   "metadata": {},
   "source": [
    "Resample data daily over the whole time series and plot data\n",
    "(using pandas' timestamp-specific method \"resample\")"
   ]
  },
  {
   "cell_type": "code",
   "execution_count": 32,
   "metadata": {
    "collapsed": false
   },
   "outputs": [],
   "source": [
    "countsPerDay = df.starttime.resample('D', how=['count'])"
   ]
  },
  {
   "cell_type": "code",
   "execution_count": 33,
   "metadata": {
    "collapsed": false
   },
   "outputs": [
    {
     "data": {
      "text/plain": [
       "<matplotlib.text.Text at 0x10b69f510>"
      ]
     },
     "execution_count": 33,
     "metadata": {},
     "output_type": "execute_result"
    },
    {
     "data": {
      "image/png": "[encoded data removed]",
      "text/plain": [
       "<matplotlib.figure.Figure at 0x10b1d5190>"
      ]
     },
     "metadata": {},
     "output_type": "display_data"
    }
   ],
   "source": [
    "countsPerDay.plot(figsize=(15,5), color='DarkOrange', linewidth=2)\n",
    "plt.title('Number of trips/day\\n')\n",
    "plt.ylabel('Number of trips')"
   ]
  },
  {
   "cell_type": "markdown",
   "metadata": {},
   "source": [
    "#### Hourly variation: July 1st and July 4th"
   ]
  },
  {
   "cell_type": "markdown",
   "metadata": {},
   "source": [
    "Resample data hourly for the two dates."
   ]
  },
  {
   "cell_type": "code",
   "execution_count": 34,
   "metadata": {
    "collapsed": false
   },
   "outputs": [],
   "source": [
    "july1Hourly = df['2013-7-1'].starttime.resample('H', how=['count'])\n",
    "july4Hourly = df['2013-7-4'].starttime.resample('H', how=['count'])"
   ]
  },
  {
   "cell_type": "code",
   "execution_count": 36,
   "metadata": {
    "collapsed": false
   },
   "outputs": [
    {
     "data": {
      "text/plain": [
       "<matplotlib.text.Text at 0x10ac02910>"
      ]
     },
     "execution_count": 36,
     "metadata": {},
     "output_type": "execute_result"
    },
    {
     "data": {
      "image/png": "[encoded data removed]",
      "text/plain": [
       "<matplotlib.figure.Figure at 0x10b473a50>"
      ]
     },
     "metadata": {},
     "output_type": "display_data"
    },
    {
     "data": {
      "image/png": "[encoded data removed]",
      "text/plain": [
       "<matplotlib.figure.Figure at 0x10abe4d50>"
      ]
     },
     "metadata": {},
     "output_type": "display_data"
    }
   ],
   "source": [
    "july1Hourly.plot(figsize=(15,5), color='DarkOrange', linewidth=2)\n",
    "plt.title('July 1st (Monday)\\n')\n",
    "plt.ylabel('Number of trips')\n",
    "\n",
    "july4Hourly.plot(figsize=(15,5), color='DarkOrange', linewidth=2)\n",
    "plt.title('July 4th\\n')\n",
    "plt.ylabel('Number of trips')"
   ]
  },
  {
   "cell_type": "markdown",
   "metadata": {},
   "source": [
    "Not surprisingly, the commutter pattern of citibike use disappears in the holiday."
   ]
  },
  {
   "cell_type": "markdown",
   "metadata": {},
   "source": [
    "#### Number of trips per station"
   ]
  },
  {
   "cell_type": "markdown",
   "metadata": {},
   "source": [
    "Get only start station id, name and coordinates. Then drop duplicates."
   ]
  },
  {
   "cell_type": "code",
   "execution_count": 15,
   "metadata": {
    "collapsed": false
   },
   "outputs": [],
   "source": [
    "dfStartStation= df.iloc[:,[7,8,9,10]]\n",
    "dfStartStation.index = dfStartStation['start station id']"
   ]
  },
  {
   "cell_type": "code",
   "execution_count": 16,
   "metadata": {
    "collapsed": false
   },
   "outputs": [
    {
     "data": {
      "text/html": [
       "<div style=\"max-height:1000px;max-width:1500px;overflow:auto;\">\n",
       "<table border=\"1\" class=\"dataframe\">\n",
       "  <thead>\n",
       "    <tr style=\"text-align: right;\">\n",
       "      <th></th>\n",
       "      <th>start station id</th>\n",
       "      <th>start station name</th>\n",
       "      <th>start station latitude</th>\n",
       "      <th>start station longitude</th>\n",
       "    </tr>\n",
       "    <tr>\n",
       "      <th>start station id</th>\n",
       "      <th></th>\n",
       "      <th></th>\n",
       "      <th></th>\n",
       "      <th></th>\n",
       "    </tr>\n",
       "  </thead>\n",
       "  <tbody>\n",
       "    <tr>\n",
       "      <th>164</th>\n",
       "      <td>164</td>\n",
       "      <td>E 47 St &amp; 2 Ave</td>\n",
       "      <td>40.753231</td>\n",
       "      <td>-73.970325</td>\n",
       "    </tr>\n",
       "    <tr>\n",
       "      <th>388</th>\n",
       "      <td>388</td>\n",
       "      <td>W 26 St &amp; 10 Ave</td>\n",
       "      <td>40.749718</td>\n",
       "      <td>-74.002950</td>\n",
       "    </tr>\n",
       "    <tr>\n",
       "      <th>293</th>\n",
       "      <td>293</td>\n",
       "      <td>Lafayette St &amp; E 8 St</td>\n",
       "      <td>40.730287</td>\n",
       "      <td>-73.990765</td>\n",
       "    </tr>\n",
       "    <tr>\n",
       "      <th>531</th>\n",
       "      <td>531</td>\n",
       "      <td>Forsyth St &amp; Broome St</td>\n",
       "      <td>40.718939</td>\n",
       "      <td>-73.992663</td>\n",
       "    </tr>\n",
       "    <tr>\n",
       "      <th>382</th>\n",
       "      <td>382</td>\n",
       "      <td>University Pl &amp; E 14 St</td>\n",
       "      <td>40.734927</td>\n",
       "      <td>-73.992005</td>\n",
       "    </tr>\n",
       "  </tbody>\n",
       "</table>\n",
       "</div>"
      ],
      "text/plain": [
       "                  start station id       start station name  \\\n",
       "start station id                                              \n",
       "164                            164          E 47 St & 2 Ave   \n",
       "388                            388         W 26 St & 10 Ave   \n",
       "293                            293    Lafayette St & E 8 St   \n",
       "531                            531   Forsyth St & Broome St   \n",
       "382                            382  University Pl & E 14 St   \n",
       "\n",
       "                  start station latitude  start station longitude  \n",
       "start station id                                                   \n",
       "164                            40.753231               -73.970325  \n",
       "388                            40.749718               -74.002950  \n",
       "293                            40.730287               -73.990765  \n",
       "531                            40.718939               -73.992663  \n",
       "382                            40.734927               -73.992005  "
      ]
     },
     "execution_count": 16,
     "metadata": {},
     "output_type": "execute_result"
    }
   ],
   "source": [
    "dfStartStation.head()"
   ]
  },
  {
   "cell_type": "code",
   "execution_count": 17,
   "metadata": {
    "collapsed": false
   },
   "outputs": [
    {
     "data": {
      "text/plain": [
       "(330, 4)"
      ]
     },
     "execution_count": 17,
     "metadata": {},
     "output_type": "execute_result"
    }
   ],
   "source": [
    "dfStartStation = dfStartStation.drop_duplicates()\n",
    "dfStartStation.shape"
   ]
  },
  {
   "cell_type": "markdown",
   "metadata": {},
   "source": [
    "Calculate total counts per individual station and add to new dataFrame."
   ]
  },
  {
   "cell_type": "code",
   "execution_count": 18,
   "metadata": {
    "collapsed": false
   },
   "outputs": [
    {
     "data": {
      "text/html": [
       "<div style=\"max-height:1000px;max-width:1500px;overflow:auto;\">\n",
       "<table border=\"1\" class=\"dataframe\">\n",
       "  <thead>\n",
       "    <tr style=\"text-align: right;\">\n",
       "      <th></th>\n",
       "      <th>start station id</th>\n",
       "      <th>start station name</th>\n",
       "      <th>start station latitude</th>\n",
       "      <th>start station longitude</th>\n",
       "      <th>count</th>\n",
       "    </tr>\n",
       "    <tr>\n",
       "      <th>start station id</th>\n",
       "      <th></th>\n",
       "      <th></th>\n",
       "      <th></th>\n",
       "      <th></th>\n",
       "      <th></th>\n",
       "    </tr>\n",
       "  </thead>\n",
       "  <tbody>\n",
       "    <tr>\n",
       "      <th>164</th>\n",
       "      <td>164</td>\n",
       "      <td>E 47 St &amp; 2 Ave</td>\n",
       "      <td>40.753231</td>\n",
       "      <td>-73.970325</td>\n",
       "      <td>14019</td>\n",
       "    </tr>\n",
       "    <tr>\n",
       "      <th>388</th>\n",
       "      <td>388</td>\n",
       "      <td>W 26 St &amp; 10 Ave</td>\n",
       "      <td>40.749718</td>\n",
       "      <td>-74.002950</td>\n",
       "      <td>22391</td>\n",
       "    </tr>\n",
       "    <tr>\n",
       "      <th>293</th>\n",
       "      <td>293</td>\n",
       "      <td>Lafayette St &amp; E 8 St</td>\n",
       "      <td>40.730287</td>\n",
       "      <td>-73.990765</td>\n",
       "      <td>46734</td>\n",
       "    </tr>\n",
       "    <tr>\n",
       "      <th>531</th>\n",
       "      <td>531</td>\n",
       "      <td>Forsyth St &amp; Broome St</td>\n",
       "      <td>40.718939</td>\n",
       "      <td>-73.992663</td>\n",
       "      <td>17574</td>\n",
       "    </tr>\n",
       "    <tr>\n",
       "      <th>382</th>\n",
       "      <td>382</td>\n",
       "      <td>University Pl &amp; E 14 St</td>\n",
       "      <td>40.734927</td>\n",
       "      <td>-73.992005</td>\n",
       "      <td>36571</td>\n",
       "    </tr>\n",
       "  </tbody>\n",
       "</table>\n",
       "</div>"
      ],
      "text/plain": [
       "                  start station id       start station name  \\\n",
       "start station id                                              \n",
       "164                            164          E 47 St & 2 Ave   \n",
       "388                            388         W 26 St & 10 Ave   \n",
       "293                            293    Lafayette St & E 8 St   \n",
       "531                            531   Forsyth St & Broome St   \n",
       "382                            382  University Pl & E 14 St   \n",
       "\n",
       "                  start station latitude  start station longitude  count  \n",
       "start station id                                                          \n",
       "164                            40.753231               -73.970325  14019  \n",
       "388                            40.749718               -74.002950  22391  \n",
       "293                            40.730287               -73.990765  46734  \n",
       "531                            40.718939               -73.992663  17574  \n",
       "382                            40.734927               -73.992005  36571  "
      ]
     },
     "execution_count": 18,
     "metadata": {},
     "output_type": "execute_result"
    }
   ],
   "source": [
    "countStartStation = df.groupby('start station id')['start station id'].count()\n",
    "dfStartStation['count'] = countStartStation\n",
    "dfStartStation.head()"
   ]
  },
  {
   "cell_type": "markdown",
   "metadata": {},
   "source": [
    "## Mapping station use\n",
    "\n",
    "Since my experience with [Vincent](http://vincent.readthedocs.org/en/latest/) was not very good, I followed Enrico's notes and used [Folium](http://folium.readthedocs.org/en/latest/) as well.\n",
    "\n",
    "(Do not forget to add \"http:\" to the links in the html file header)"
   ]
  },
  {
   "cell_type": "markdown",
   "metadata": {},
   "source": [
    "#### Circle size reflecting relative use of stations as trip starting points over the whole six month period"
   ]
  },
  {
   "cell_type": "code",
   "execution_count": 212,
   "metadata": {
    "collapsed": false
   },
   "outputs": [],
   "source": [
    "import folium\n",
    "\n",
    "citibike_starstation_6months = folium.Map(location=[40.74, -73.99], width=750, height = 750,\n",
    "                                          tiles = 'Stamen Toner', zoom_start=12)\n",
    "\n",
    "for index, row in dfStartStation.iterrows():\n",
    "    citibike_starstation_6months.circle_marker(location=[row['start station latitude'],\n",
    "                                                         row['start station longitude']],\n",
    "                                               popup=row['start station name'],\n",
    "                                               radius=row['count']/250,\n",
    "                                               fill_color='#FFC266', line_color='#FF9900')\n",
    "    \n",
    "citibike_starstation_6months.create_map(path='citibike_starstation_6months.html')\n",
    "\n",
    "#del citibike_starstation_6months\n"
   ]
  },
  {
   "cell_type": "code",
   "execution_count": 19,
   "metadata": {
    "collapsed": false
   },
   "outputs": [
    {
     "data": {
      "text/html": [
       "\n",
       "        <iframe\n",
       "            width=\"750\"\n",
       "            height=\"750\"\n",
       "            src=\"citibike_starstation_6months.html\"\n",
       "            frameborder=\"0\"\n",
       "            allowfullscreen\n",
       "        ></iframe>\n",
       "        "
      ],
      "text/plain": [
       "<IPython.lib.display.IFrame at 0x1129d6c50>"
      ]
     },
     "execution_count": 19,
     "metadata": {},
     "output_type": "execute_result"
    }
   ],
   "source": [
    "from IPython.display import IFrame\n",
    "IFrame('citibike_starstation_6months.html', width=750, height=750)"
   ]
  },
  {
   "cell_type": "markdown",
   "metadata": {},
   "source": [
    "#### Plot lines between start and end station"
   ]
  },
  {
   "cell_type": "code",
   "execution_count": 20,
   "metadata": {
    "collapsed": false
   },
   "outputs": [
    {
     "data": {
      "text/plain": [
       "(13, 19)"
      ]
     },
     "execution_count": 20,
     "metadata": {},
     "output_type": "execute_result"
    }
   ],
   "source": [
    "july1_lines = df.ix['2013-7-1 09:30'] # Get subset of data\n",
    "july1_lines.shape"
   ]
  },
  {
   "cell_type": "code",
   "execution_count": 149,
   "metadata": {
    "collapsed": false
   },
   "outputs": [],
   "source": [
    "import folium\n",
    "\n",
    "citibike_trips_july1_lines = folium.Map(location=[40.74, -73.99], width=750, height = 750,\n",
    "                                     tiles = 'Stamen Toner', zoom_start=12)\n",
    "\n",
    "for index, row in july1_lines.iterrows():\n",
    "    citibike_trips_july1_lines.line(locations=[[row['start station latitude'],\n",
    "                                          row['start station longitude']],\n",
    "                                         [row['end station latitude'],\n",
    "                                          row['end station longitude']]],\n",
    "                                    line_color='#FFC266', line_opacity=0.8, line_weight=2)\n",
    "\n",
    "citibike_trips_july1_8am.create_map(path='citibike_trips_july1_lines.html')"
   ]
  },
  {
   "cell_type": "code",
   "execution_count": 21,
   "metadata": {
    "collapsed": false,
    "scrolled": false
   },
   "outputs": [
    {
     "data": {
      "text/html": [
       "\n",
       "        <iframe\n",
       "            width=\"750\"\n",
       "            height=\"750\"\n",
       "            src=\"citibike_trips_july1_lines.html\"\n",
       "            frameborder=\"0\"\n",
       "            allowfullscreen\n",
       "        ></iframe>\n",
       "        "
      ],
      "text/plain": [
       "<IPython.lib.display.IFrame at 0x1129d6610>"
      ]
     },
     "execution_count": 21,
     "metadata": {},
     "output_type": "execute_result"
    }
   ],
   "source": [
    "from IPython.display import IFrame\n",
    "IFrame('citibike_trips_july1_lines.html', width=750, height=750)"
   ]
  },
  {
   "cell_type": "markdown",
   "metadata": {
    "collapsed": true
   },
   "source": [
    "## Impact of weather on citibike use"
   ]
  },
  {
   "cell_type": "markdown",
   "metadata": {},
   "source": [
    "Load weather data and merge with citibike data frame."
   ]
  },
  {
   "cell_type": "code",
   "execution_count": 5,
   "metadata": {
    "collapsed": false
   },
   "outputs": [
    {
     "name": "stdout",
     "output_type": "stream",
     "text": [
      "CPU times: user 4.44 ms, sys: 1.65 ms, total: 6.09 ms\n",
      "Wall time: 95.9 ms\n"
     ]
    }
   ],
   "source": [
    "file_name = '../Weather/clean_weather.pkl'\n",
    "%time weather = pd.read_pickle(file_name)"
   ]
  },
  {
   "cell_type": "code",
   "execution_count": 6,
   "metadata": {
    "collapsed": false
   },
   "outputs": [
    {
     "data": {
      "text/plain": [
       "(4416, 14)"
      ]
     },
     "execution_count": 6,
     "metadata": {},
     "output_type": "execute_result"
    }
   ],
   "source": [
    "weather.shape"
   ]
  },
  {
   "cell_type": "code",
   "execution_count": 7,
   "metadata": {
    "collapsed": false
   },
   "outputs": [],
   "source": [
    "dfweather = pd.merge(df, weather, how='inner', left_on=['month', 'day_of_month', 'day_of_week', 'hour'],\n",
    "                  right_on=['Month', 'DayOfMonth', 'DayOfWeek', 'Hour'], left_index=True, sort=True,\n",
    "                  suffixes=('_cb', '_wt'), copy=True)"
   ]
  },
  {
   "cell_type": "code",
   "execution_count": 8,
   "metadata": {
    "collapsed": false
   },
   "outputs": [
    {
     "data": {
      "text/html": [
       "<div style=\"max-height:1000px;max-width:1500px;overflow:auto;\">\n",
       "<table border=\"1\" class=\"dataframe\">\n",
       "  <thead>\n",
       "    <tr style=\"text-align: right;\">\n",
       "      <th></th>\n",
       "      <th>month</th>\n",
       "      <th>day_of_month</th>\n",
       "      <th>day_of_week</th>\n",
       "      <th>hour</th>\n",
       "      <th>tripduration</th>\n",
       "      <th>starttime</th>\n",
       "      <th>stoptime</th>\n",
       "      <th>start station id</th>\n",
       "      <th>start station name</th>\n",
       "      <th>start station latitude</th>\n",
       "      <th>...</th>\n",
       "      <th>DayOfMonth</th>\n",
       "      <th>DayOfWeek</th>\n",
       "      <th>Hour</th>\n",
       "      <th>TemperatureF</th>\n",
       "      <th>PrecipitationIn</th>\n",
       "      <th>Humidity</th>\n",
       "      <th>SeaLevelPressureIn</th>\n",
       "      <th>VisibilityMPH</th>\n",
       "      <th>Conditions</th>\n",
       "      <th>WindSpeedMPH</th>\n",
       "    </tr>\n",
       "  </thead>\n",
       "  <tbody>\n",
       "    <tr>\n",
       "      <th>0</th>\n",
       "      <td>7</td>\n",
       "      <td>1</td>\n",
       "      <td>0</td>\n",
       "      <td>0</td>\n",
       "      <td>634</td>\n",
       "      <td>2013-07-01 00:00:00</td>\n",
       "      <td>2013-07-01 00:10:34</td>\n",
       "      <td>164</td>\n",
       "      <td>E 47 St &amp; 2 Ave</td>\n",
       "      <td>40.753231</td>\n",
       "      <td>...</td>\n",
       "      <td>1</td>\n",
       "      <td>0</td>\n",
       "      <td>0</td>\n",
       "      <td>73.9</td>\n",
       "      <td>NaN</td>\n",
       "      <td>87</td>\n",
       "      <td>29.91</td>\n",
       "      <td>9</td>\n",
       "      <td>Clear</td>\n",
       "      <td>3.5</td>\n",
       "    </tr>\n",
       "    <tr>\n",
       "      <th>0</th>\n",
       "      <td>7</td>\n",
       "      <td>1</td>\n",
       "      <td>0</td>\n",
       "      <td>0</td>\n",
       "      <td>1547</td>\n",
       "      <td>2013-07-01 00:00:02</td>\n",
       "      <td>2013-07-01 00:25:49</td>\n",
       "      <td>388</td>\n",
       "      <td>W 26 St &amp; 10 Ave</td>\n",
       "      <td>40.749718</td>\n",
       "      <td>...</td>\n",
       "      <td>1</td>\n",
       "      <td>0</td>\n",
       "      <td>0</td>\n",
       "      <td>73.9</td>\n",
       "      <td>NaN</td>\n",
       "      <td>87</td>\n",
       "      <td>29.91</td>\n",
       "      <td>9</td>\n",
       "      <td>Clear</td>\n",
       "      <td>3.5</td>\n",
       "    </tr>\n",
       "    <tr>\n",
       "      <th>0</th>\n",
       "      <td>7</td>\n",
       "      <td>1</td>\n",
       "      <td>0</td>\n",
       "      <td>0</td>\n",
       "      <td>178</td>\n",
       "      <td>2013-07-01 00:01:04</td>\n",
       "      <td>2013-07-01 00:04:02</td>\n",
       "      <td>293</td>\n",
       "      <td>Lafayette St &amp; E 8 St</td>\n",
       "      <td>40.730287</td>\n",
       "      <td>...</td>\n",
       "      <td>1</td>\n",
       "      <td>0</td>\n",
       "      <td>0</td>\n",
       "      <td>73.9</td>\n",
       "      <td>NaN</td>\n",
       "      <td>87</td>\n",
       "      <td>29.91</td>\n",
       "      <td>9</td>\n",
       "      <td>Clear</td>\n",
       "      <td>3.5</td>\n",
       "    </tr>\n",
       "    <tr>\n",
       "      <th>0</th>\n",
       "      <td>7</td>\n",
       "      <td>1</td>\n",
       "      <td>0</td>\n",
       "      <td>0</td>\n",
       "      <td>1580</td>\n",
       "      <td>2013-07-01 00:01:06</td>\n",
       "      <td>2013-07-01 00:27:26</td>\n",
       "      <td>531</td>\n",
       "      <td>Forsyth St &amp; Broome St</td>\n",
       "      <td>40.718939</td>\n",
       "      <td>...</td>\n",
       "      <td>1</td>\n",
       "      <td>0</td>\n",
       "      <td>0</td>\n",
       "      <td>73.9</td>\n",
       "      <td>NaN</td>\n",
       "      <td>87</td>\n",
       "      <td>29.91</td>\n",
       "      <td>9</td>\n",
       "      <td>Clear</td>\n",
       "      <td>3.5</td>\n",
       "    </tr>\n",
       "    <tr>\n",
       "      <th>0</th>\n",
       "      <td>7</td>\n",
       "      <td>1</td>\n",
       "      <td>0</td>\n",
       "      <td>0</td>\n",
       "      <td>757</td>\n",
       "      <td>2013-07-01 00:01:10</td>\n",
       "      <td>2013-07-01 00:13:47</td>\n",
       "      <td>382</td>\n",
       "      <td>University Pl &amp; E 14 St</td>\n",
       "      <td>40.734927</td>\n",
       "      <td>...</td>\n",
       "      <td>1</td>\n",
       "      <td>0</td>\n",
       "      <td>0</td>\n",
       "      <td>73.9</td>\n",
       "      <td>NaN</td>\n",
       "      <td>87</td>\n",
       "      <td>29.91</td>\n",
       "      <td>9</td>\n",
       "      <td>Clear</td>\n",
       "      <td>3.5</td>\n",
       "    </tr>\n",
       "  </tbody>\n",
       "</table>\n",
       "<p>5 rows × 33 columns</p>\n",
       "</div>"
      ],
      "text/plain": [
       "   month  day_of_month  day_of_week  hour  tripduration           starttime  \\\n",
       "0      7             1            0     0           634 2013-07-01 00:00:00   \n",
       "0      7             1            0     0          1547 2013-07-01 00:00:02   \n",
       "0      7             1            0     0           178 2013-07-01 00:01:04   \n",
       "0      7             1            0     0          1580 2013-07-01 00:01:06   \n",
       "0      7             1            0     0           757 2013-07-01 00:01:10   \n",
       "\n",
       "             stoptime  start station id       start station name  \\\n",
       "0 2013-07-01 00:10:34               164          E 47 St & 2 Ave   \n",
       "0 2013-07-01 00:25:49               388         W 26 St & 10 Ave   \n",
       "0 2013-07-01 00:04:02               293    Lafayette St & E 8 St   \n",
       "0 2013-07-01 00:27:26               531   Forsyth St & Broome St   \n",
       "0 2013-07-01 00:13:47               382  University Pl & E 14 St   \n",
       "\n",
       "   start station latitude      ...       DayOfMonth  DayOfWeek Hour  \\\n",
       "0               40.753231      ...                1          0    0   \n",
       "0               40.749718      ...                1          0    0   \n",
       "0               40.730287      ...                1          0    0   \n",
       "0               40.718939      ...                1          0    0   \n",
       "0               40.734927      ...                1          0    0   \n",
       "\n",
       "   TemperatureF  PrecipitationIn  Humidity SeaLevelPressureIn VisibilityMPH  \\\n",
       "0          73.9              NaN        87              29.91             9   \n",
       "0          73.9              NaN        87              29.91             9   \n",
       "0          73.9              NaN        87              29.91             9   \n",
       "0          73.9              NaN        87              29.91             9   \n",
       "0          73.9              NaN        87              29.91             9   \n",
       "\n",
       "   Conditions  WindSpeedMPH  \n",
       "0       Clear           3.5  \n",
       "0       Clear           3.5  \n",
       "0       Clear           3.5  \n",
       "0       Clear           3.5  \n",
       "0       Clear           3.5  \n",
       "\n",
       "[5 rows x 33 columns]"
      ]
     },
     "execution_count": 8,
     "metadata": {},
     "output_type": "execute_result"
    }
   ],
   "source": [
    "dfweather.head()"
   ]
  },
  {
   "cell_type": "code",
   "execution_count": 9,
   "metadata": {
    "collapsed": false
   },
   "outputs": [
    {
     "data": {
      "text/plain": [
       "(5037185, 33)"
      ]
     },
     "execution_count": 9,
     "metadata": {},
     "output_type": "execute_result"
    }
   ],
   "source": [
    "dfweather.shape"
   ]
  },
  {
   "cell_type": "markdown",
   "metadata": {},
   "source": [
    "#### Extreme temperatures have a negative impact on citibike use."
   ]
  },
  {
   "cell_type": "code",
   "execution_count": 26,
   "metadata": {
    "collapsed": false
   },
   "outputs": [
    {
     "data": {
      "text/plain": [
       "<matplotlib.text.Text at 0x109e7f710>"
      ]
     },
     "execution_count": 26,
     "metadata": {},
     "output_type": "execute_result"
    },
    {
     "data": {
      "image/png": "[encoded data removed]",
      "text/plain": [
       "<matplotlib.figure.Figure at 0x10bef3990>"
      ]
     },
     "metadata": {},
     "output_type": "display_data"
    }
   ],
   "source": [
    "plt.rcParams.update({'font.size': 16})\n",
    "dfweather[['TemperatureF']].hist(figsize=(8,5), bins=15, alpha=0.5, color='orange', normed=True)\n",
    "plt.title('Citibike use according to temperature\\n')\n",
    "plt.xlabel('Degrees Fahrenheit')\n",
    "plt.ylabel('Normalized number of trips')"
   ]
  },
  {
   "cell_type": "markdown",
   "metadata": {},
   "source": [
    "#### A similar effect of extreme weather conditions is also present."
   ]
  },
  {
   "cell_type": "code",
   "execution_count": 24,
   "metadata": {
    "collapsed": false
   },
   "outputs": [
    {
     "data": {
      "text/plain": [
       "<matplotlib.text.Text at 0x1212bf090>"
      ]
     },
     "execution_count": 24,
     "metadata": {},
     "output_type": "execute_result"
    },
    {
     "data": {
      "image/png": "[encoded data removed]",
      "text/plain": [
       "<matplotlib.figure.Figure at 0x120a08590>"
      ]
     },
     "metadata": {},
     "output_type": "display_data"
    }
   ],
   "source": [
    "plt.rcParams.update({'font.size': 16})\n",
    "dfweather.Conditions.value_counts(normalize=True).plot(kind='barh', figsize=(8,5), alpha=0.5,\n",
    "                                                       color='orange', log=True)\n",
    "plt.title('Citibike use according to weather conditions\\n')\n",
    "plt.xlabel('Normalized number of trips (Log)')"
   ]
  },
  {
   "cell_type": "markdown",
   "metadata": {},
   "source": [
    "#### Once trips start, though, their mean duration is not clearly reduced by extreme weather."
   ]
  },
  {
   "cell_type": "code",
   "execution_count": 11,
   "metadata": {
    "collapsed": false
   },
   "outputs": [
    {
     "data": {
      "text/html": [
       "<div style=\"max-height:1000px;max-width:1500px;overflow:auto;\">\n",
       "<table border=\"1\" class=\"dataframe\">\n",
       "  <thead>\n",
       "    <tr style=\"text-align: right;\">\n",
       "      <th></th>\n",
       "      <th>starttime</th>\n",
       "      <th>tripduration</th>\n",
       "      <th>Conditions</th>\n",
       "    </tr>\n",
       "  </thead>\n",
       "  <tbody>\n",
       "    <tr>\n",
       "      <th>0</th>\n",
       "      <td>2013-07-01 00:00:00</td>\n",
       "      <td>634</td>\n",
       "      <td>Clear</td>\n",
       "    </tr>\n",
       "    <tr>\n",
       "      <th>0</th>\n",
       "      <td>2013-07-01 00:00:02</td>\n",
       "      <td>1547</td>\n",
       "      <td>Clear</td>\n",
       "    </tr>\n",
       "    <tr>\n",
       "      <th>0</th>\n",
       "      <td>2013-07-01 00:01:04</td>\n",
       "      <td>178</td>\n",
       "      <td>Clear</td>\n",
       "    </tr>\n",
       "    <tr>\n",
       "      <th>0</th>\n",
       "      <td>2013-07-01 00:01:06</td>\n",
       "      <td>1580</td>\n",
       "      <td>Clear</td>\n",
       "    </tr>\n",
       "    <tr>\n",
       "      <th>0</th>\n",
       "      <td>2013-07-01 00:01:10</td>\n",
       "      <td>757</td>\n",
       "      <td>Clear</td>\n",
       "    </tr>\n",
       "  </tbody>\n",
       "</table>\n",
       "</div>"
      ],
      "text/plain": [
       "            starttime  tripduration Conditions\n",
       "0 2013-07-01 00:00:00           634      Clear\n",
       "0 2013-07-01 00:00:02          1547      Clear\n",
       "0 2013-07-01 00:01:04           178      Clear\n",
       "0 2013-07-01 00:01:06          1580      Clear\n",
       "0 2013-07-01 00:01:10           757      Clear"
      ]
     },
     "execution_count": 11,
     "metadata": {},
     "output_type": "execute_result"
    }
   ],
   "source": [
    "weather_conditions = dfweather[['starttime', 'tripduration', 'Conditions']]\n",
    "weather_conditions.head()"
   ]
  },
  {
   "cell_type": "code",
   "execution_count": 60,
   "metadata": {
    "collapsed": true
   },
   "outputs": [],
   "source": [
    "trip_duration = weather_conditions.groupby(['Conditions']).mean()\n",
    "trip_duration = trip_duration / 60 # Convert to minutes"
   ]
  },
  {
   "cell_type": "code",
   "execution_count": 61,
   "metadata": {
    "collapsed": false
   },
   "outputs": [
    {
     "data": {
      "text/html": [
       "<div style=\"max-height:1000px;max-width:1500px;overflow:auto;\">\n",
       "<table border=\"1\" class=\"dataframe\">\n",
       "  <thead>\n",
       "    <tr style=\"text-align: right;\">\n",
       "      <th></th>\n",
       "      <th>tripduration</th>\n",
       "    </tr>\n",
       "    <tr>\n",
       "      <th>Conditions</th>\n",
       "      <th></th>\n",
       "    </tr>\n",
       "  </thead>\n",
       "  <tbody>\n",
       "    <tr>\n",
       "      <th>Clear</th>\n",
       "      <td>14.698623</td>\n",
       "    </tr>\n",
       "    <tr>\n",
       "      <th>Fog</th>\n",
       "      <td>11.349014</td>\n",
       "    </tr>\n",
       "    <tr>\n",
       "      <th>Haze</th>\n",
       "      <td>14.178589</td>\n",
       "    </tr>\n",
       "    <tr>\n",
       "      <th>Heavy Rain</th>\n",
       "      <td>14.643908</td>\n",
       "    </tr>\n",
       "    <tr>\n",
       "      <th>Heavy Snow</th>\n",
       "      <td>18.929388</td>\n",
       "    </tr>\n",
       "  </tbody>\n",
       "</table>\n",
       "</div>"
      ],
      "text/plain": [
       "            tripduration\n",
       "Conditions              \n",
       "Clear          14.698623\n",
       "Fog            11.349014\n",
       "Haze           14.178589\n",
       "Heavy Rain     14.643908\n",
       "Heavy Snow     18.929388"
      ]
     },
     "execution_count": 61,
     "metadata": {},
     "output_type": "execute_result"
    }
   ],
   "source": [
    "trip_duration.head()"
   ]
  },
  {
   "cell_type": "code",
   "execution_count": 63,
   "metadata": {
    "collapsed": false
   },
   "outputs": [
    {
     "data": {
      "text/plain": [
       "<matplotlib.text.Text at 0x10accfed0>"
      ]
     },
     "execution_count": 63,
     "metadata": {},
     "output_type": "execute_result"
    },
    {
     "data": {
      "image/png": "[encoded data removed]",
      "text/plain": [
       "<matplotlib.figure.Figure at 0x10a7711d0>"
      ]
     },
     "metadata": {},
     "output_type": "display_data"
    }
   ],
   "source": [
    "plt.rcParams.update({'font.size': 16})\n",
    "trip_duration.plot(kind='barh', figsize=(8,5), alpha=0.5, color='orange')\n",
    "plt.title('Citibike trip duration according to weather conditions\\n')\n",
    "plt.xlabel('Mean trip duration (in minutes)')\n",
    "plt.ylabel('')"
   ]
  },
  {
   "cell_type": "code",
   "execution_count": null,
   "metadata": {
    "collapsed": true
   },
   "outputs": [],
   "source": []
  }
 ],
 "metadata": {
  "kernelspec": {
   "display_name": "Python 2",
   "language": "python",
   "name": "python2"
  },
  "language_info": {
   "codemirror_mode": {
    "name": "ipython",
    "version": 2
   },
   "file_extension": ".py",
   "mimetype": "text/x-python",
   "name": "python",
   "nbconvert_exporter": "python",
   "pygments_lexer": "ipython2",
   "version": "2.7.10"
  }
 },
 "nbformat": 4,
 "nbformat_minor": 0
}
